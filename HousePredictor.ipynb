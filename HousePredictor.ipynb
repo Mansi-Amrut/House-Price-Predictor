{
 "cells": [
  {
   "cell_type": "markdown",
   "metadata": {
    "id": "nTXbvSKUZl0P"
   },
   "source": [
    "# **House Price Predictor**"
   ]
  },
  {
   "cell_type": "markdown",
   "metadata": {},
   "source": [
    "Pre-processing steps:"
   ]
  },
  {
   "cell_type": "markdown",
   "metadata": {
    "id": "8etcuIKzzePB"
   },
   "source": [
    "### **1) Importing libraries**"
   ]
  },
  {
   "cell_type": "code",
   "execution_count": 8,
   "metadata": {
    "id": "bQEijVjQZD1h"
   },
   "outputs": [],
   "source": [
    "import pandas as pd\n",
    "import numpy as np\n",
    "import matplotlib.pyplot as plt\n",
    "import seaborn as sns"
   ]
  },
  {
   "cell_type": "markdown",
   "metadata": {
    "id": "-cRS8xkUa89G"
   },
   "source": [
    "### **2) Importing dataset**"
   ]
  },
  {
   "cell_type": "code",
   "execution_count": 9,
   "metadata": {
    "colab": {
     "base_uri": "https://localhost:8080/",
     "height": 293
    },
    "id": "nR2ehbRRa2Qp",
    "outputId": "61d9b864-2321-4fca-f8f1-6444db3be120"
   },
   "outputs": [
    {
     "data": {
      "text/html": [
       "<div>\n",
       "<style scoped>\n",
       "    .dataframe tbody tr th:only-of-type {\n",
       "        vertical-align: middle;\n",
       "    }\n",
       "\n",
       "    .dataframe tbody tr th {\n",
       "        vertical-align: top;\n",
       "    }\n",
       "\n",
       "    .dataframe thead th {\n",
       "        text-align: right;\n",
       "    }\n",
       "</style>\n",
       "<table border=\"1\" class=\"dataframe\">\n",
       "  <thead>\n",
       "    <tr style=\"text-align: right;\">\n",
       "      <th></th>\n",
       "      <th>area_type</th>\n",
       "      <th>availability</th>\n",
       "      <th>location</th>\n",
       "      <th>size</th>\n",
       "      <th>society</th>\n",
       "      <th>total_sqft</th>\n",
       "      <th>bath</th>\n",
       "      <th>balcony</th>\n",
       "      <th>price</th>\n",
       "    </tr>\n",
       "  </thead>\n",
       "  <tbody>\n",
       "    <tr>\n",
       "      <th>0</th>\n",
       "      <td>Super built-up  Area</td>\n",
       "      <td>19-Dec</td>\n",
       "      <td>Electronic City Phase II</td>\n",
       "      <td>2 BHK</td>\n",
       "      <td>Coomee</td>\n",
       "      <td>1056</td>\n",
       "      <td>2.0</td>\n",
       "      <td>1.0</td>\n",
       "      <td>39.07</td>\n",
       "    </tr>\n",
       "    <tr>\n",
       "      <th>1</th>\n",
       "      <td>Plot  Area</td>\n",
       "      <td>Ready To Move</td>\n",
       "      <td>Chikka Tirupathi</td>\n",
       "      <td>4 Bedroom</td>\n",
       "      <td>Theanmp</td>\n",
       "      <td>2600</td>\n",
       "      <td>5.0</td>\n",
       "      <td>3.0</td>\n",
       "      <td>120.00</td>\n",
       "    </tr>\n",
       "    <tr>\n",
       "      <th>2</th>\n",
       "      <td>Built-up  Area</td>\n",
       "      <td>Ready To Move</td>\n",
       "      <td>Uttarahalli</td>\n",
       "      <td>3 BHK</td>\n",
       "      <td>NaN</td>\n",
       "      <td>1440</td>\n",
       "      <td>2.0</td>\n",
       "      <td>3.0</td>\n",
       "      <td>62.00</td>\n",
       "    </tr>\n",
       "    <tr>\n",
       "      <th>3</th>\n",
       "      <td>Super built-up  Area</td>\n",
       "      <td>Ready To Move</td>\n",
       "      <td>Lingadheeranahalli</td>\n",
       "      <td>3 BHK</td>\n",
       "      <td>Soiewre</td>\n",
       "      <td>1521</td>\n",
       "      <td>3.0</td>\n",
       "      <td>1.0</td>\n",
       "      <td>95.00</td>\n",
       "    </tr>\n",
       "    <tr>\n",
       "      <th>4</th>\n",
       "      <td>Super built-up  Area</td>\n",
       "      <td>Ready To Move</td>\n",
       "      <td>Kothanur</td>\n",
       "      <td>2 BHK</td>\n",
       "      <td>NaN</td>\n",
       "      <td>1200</td>\n",
       "      <td>2.0</td>\n",
       "      <td>1.0</td>\n",
       "      <td>51.00</td>\n",
       "    </tr>\n",
       "  </tbody>\n",
       "</table>\n",
       "</div>"
      ],
      "text/plain": [
       "              area_type   availability                  location       size  \\\n",
       "0  Super built-up  Area         19-Dec  Electronic City Phase II      2 BHK   \n",
       "1            Plot  Area  Ready To Move          Chikka Tirupathi  4 Bedroom   \n",
       "2        Built-up  Area  Ready To Move               Uttarahalli      3 BHK   \n",
       "3  Super built-up  Area  Ready To Move        Lingadheeranahalli      3 BHK   \n",
       "4  Super built-up  Area  Ready To Move                  Kothanur      2 BHK   \n",
       "\n",
       "   society total_sqft  bath  balcony   price  \n",
       "0  Coomee        1056   2.0      1.0   39.07  \n",
       "1  Theanmp       2600   5.0      3.0  120.00  \n",
       "2      NaN       1440   2.0      3.0   62.00  \n",
       "3  Soiewre       1521   3.0      1.0   95.00  \n",
       "4      NaN       1200   2.0      1.0   51.00  "
      ]
     },
     "execution_count": 9,
     "metadata": {},
     "output_type": "execute_result"
    }
   ],
   "source": [
    "house_data = pd.read_csv('Bengaluru_House_Data.csv')\n",
    "house_data.head()"
   ]
  },
  {
   "cell_type": "markdown",
   "metadata": {
    "id": "cg3t7XWH7KB5"
   },
   "source": [
    "### **3) Analyzing the data.**"
   ]
  },
  {
   "cell_type": "code",
   "execution_count": 10,
   "metadata": {
    "colab": {
     "base_uri": "https://localhost:8080/",
     "height": 0
    },
    "id": "kO8umeYOG2Md",
    "outputId": "0798c3ed-af37-4b50-cd49-e47e286ddb96"
   },
   "outputs": [
    {
     "data": {
      "text/plain": [
       "(13320, 9)"
      ]
     },
     "execution_count": 10,
     "metadata": {},
     "output_type": "execute_result"
    }
   ],
   "source": [
    "house_data.shape"
   ]
  },
  {
   "cell_type": "markdown",
   "metadata": {
    "id": "FFzmQjrzH7Wd"
   },
   "source": [
    "The info() function gives detailed information about the columns in the dataset for example its datatype, and non-null count."
   ]
  },
  {
   "cell_type": "code",
   "execution_count": 11,
   "metadata": {
    "colab": {
     "base_uri": "https://localhost:8080/",
     "height": 0
    },
    "id": "IO3PS3igHrtP",
    "outputId": "6692d14a-e0dc-42fe-f60d-817598140b4b"
   },
   "outputs": [
    {
     "name": "stdout",
     "output_type": "stream",
     "text": [
      "<class 'pandas.core.frame.DataFrame'>\n",
      "RangeIndex: 13320 entries, 0 to 13319\n",
      "Data columns (total 9 columns):\n",
      " #   Column        Non-Null Count  Dtype  \n",
      "---  ------        --------------  -----  \n",
      " 0   area_type     13320 non-null  object \n",
      " 1   availability  13320 non-null  object \n",
      " 2   location      13319 non-null  object \n",
      " 3   size          13304 non-null  object \n",
      " 4   society       7818 non-null   object \n",
      " 5   total_sqft    13320 non-null  object \n",
      " 6   bath          13247 non-null  float64\n",
      " 7   balcony       12711 non-null  float64\n",
      " 8   price         13320 non-null  float64\n",
      "dtypes: float64(3), object(6)\n",
      "memory usage: 936.7+ KB\n"
     ]
    }
   ],
   "source": [
    "house_data.info()"
   ]
  },
  {
   "cell_type": "markdown",
   "metadata": {
    "id": "qfJ_8C_gJBH3"
   },
   "source": [
    "Here, we get the value count of each type in the column."
   ]
  },
  {
   "cell_type": "code",
   "execution_count": 12,
   "metadata": {
    "colab": {
     "base_uri": "https://localhost:8080/",
     "height": 0
    },
    "id": "pNosLLq6H5JW",
    "outputId": "51b0154b-73b5-4dd3-c6cd-93dac3759948"
   },
   "outputs": [
    {
     "name": "stdout",
     "output_type": "stream",
     "text": [
      "Super built-up  Area    8790\n",
      "Built-up  Area          2418\n",
      "Plot  Area              2025\n",
      "Carpet  Area              87\n",
      "Name: area_type, dtype: int64\n",
      "********************\n",
      "Ready To Move    10581\n",
      "18-Dec             307\n",
      "18-May             295\n",
      "18-Apr             271\n",
      "18-Aug             200\n",
      "                 ...  \n",
      "15-Aug               1\n",
      "17-Jan               1\n",
      "16-Nov               1\n",
      "16-Jan               1\n",
      "14-Jul               1\n",
      "Name: availability, Length: 81, dtype: int64\n",
      "********************\n",
      "Whitefield                        540\n",
      "Sarjapur  Road                    399\n",
      "Electronic City                   302\n",
      "Kanakpura Road                    273\n",
      "Thanisandra                       234\n",
      "                                 ... \n",
      "Bapuji Layout                       1\n",
      "1st Stage Radha Krishna Layout      1\n",
      "BEML Layout 5th stage               1\n",
      "singapura paradise                  1\n",
      "Abshot Layout                       1\n",
      "Name: location, Length: 1305, dtype: int64\n",
      "********************\n",
      "2 BHK         5199\n",
      "3 BHK         4310\n",
      "4 Bedroom      826\n",
      "4 BHK          591\n",
      "3 Bedroom      547\n",
      "1 BHK          538\n",
      "2 Bedroom      329\n",
      "5 Bedroom      297\n",
      "6 Bedroom      191\n",
      "1 Bedroom      105\n",
      "8 Bedroom       84\n",
      "7 Bedroom       83\n",
      "5 BHK           59\n",
      "9 Bedroom       46\n",
      "6 BHK           30\n",
      "7 BHK           17\n",
      "1 RK            13\n",
      "10 Bedroom      12\n",
      "9 BHK            8\n",
      "8 BHK            5\n",
      "11 BHK           2\n",
      "11 Bedroom       2\n",
      "10 BHK           2\n",
      "14 BHK           1\n",
      "13 BHK           1\n",
      "12 Bedroom       1\n",
      "27 BHK           1\n",
      "43 Bedroom       1\n",
      "16 BHK           1\n",
      "19 BHK           1\n",
      "18 Bedroom       1\n",
      "Name: size, dtype: int64\n",
      "********************\n",
      "GrrvaGr    80\n",
      "PrarePa    76\n",
      "Sryalan    59\n",
      "Prtates    59\n",
      "GMown E    56\n",
      "           ..\n",
      "Amionce     1\n",
      "JaghtDe     1\n",
      "Jauraht     1\n",
      "Brity U     1\n",
      "RSntsAp     1\n",
      "Name: society, Length: 2688, dtype: int64\n",
      "********************\n",
      "1200    843\n",
      "1100    221\n",
      "1500    205\n",
      "2400    196\n",
      "600     180\n",
      "       ... \n",
      "3580      1\n",
      "2461      1\n",
      "1437      1\n",
      "2155      1\n",
      "4689      1\n",
      "Name: total_sqft, Length: 2117, dtype: int64\n",
      "********************\n",
      "2.0     6908\n",
      "3.0     3286\n",
      "4.0     1226\n",
      "1.0      788\n",
      "5.0      524\n",
      "6.0      273\n",
      "7.0      102\n",
      "8.0       64\n",
      "9.0       43\n",
      "10.0      13\n",
      "12.0       7\n",
      "13.0       3\n",
      "11.0       3\n",
      "16.0       2\n",
      "27.0       1\n",
      "40.0       1\n",
      "15.0       1\n",
      "14.0       1\n",
      "18.0       1\n",
      "Name: bath, dtype: int64\n",
      "********************\n",
      "2.0    5113\n",
      "1.0    4897\n",
      "3.0    1672\n",
      "0.0    1029\n",
      "Name: balcony, dtype: int64\n",
      "********************\n",
      "75.00     310\n",
      "65.00     302\n",
      "55.00     275\n",
      "60.00     270\n",
      "45.00     240\n",
      "         ... \n",
      "351.00      1\n",
      "54.10       1\n",
      "80.64       1\n",
      "32.73       1\n",
      "488.00      1\n",
      "Name: price, Length: 1994, dtype: int64\n",
      "********************\n"
     ]
    }
   ],
   "source": [
    "for column in house_data.columns:\n",
    "  print(house_data[column].value_counts())\n",
    "  print(\"*\"*20)"
   ]
  },
  {
   "cell_type": "markdown",
   "metadata": {
    "id": "joTw_SJVaOUv"
   },
   "source": [
    "### **4) Finding Missing data**"
   ]
  },
  {
   "cell_type": "markdown",
   "metadata": {
    "id": "NlEeAMJLJfMZ"
   },
   "source": [
    "**Null Values**"
   ]
  },
  {
   "cell_type": "markdown",
   "metadata": {
    "id": "ttiYtFBgJqxZ"
   },
   "source": [
    "The isna() function along with sum() function gives us number of records of each colum that has null values"
   ]
  },
  {
   "cell_type": "code",
   "execution_count": 13,
   "metadata": {
    "colab": {
     "base_uri": "https://localhost:8080/",
     "height": 0
    },
    "id": "NVrl3Ym0I8Nu",
    "outputId": "9c200cd2-fcc6-4f5b-eb0a-18807a51a306"
   },
   "outputs": [
    {
     "data": {
      "text/plain": [
       "area_type          0\n",
       "availability       0\n",
       "location           1\n",
       "size              16\n",
       "society         5502\n",
       "total_sqft         0\n",
       "bath              73\n",
       "balcony          609\n",
       "price              0\n",
       "dtype: int64"
      ]
     },
     "execution_count": 13,
     "metadata": {},
     "output_type": "execute_result"
    }
   ],
   "source": [
    "house_data.isna().sum()"
   ]
  },
  {
   "cell_type": "markdown",
   "metadata": {
    "id": "Xs0r_E_mak8i"
   },
   "source": [
    "### **5) Handling the Missing data**"
   ]
  },
  {
   "cell_type": "markdown",
   "metadata": {
    "id": "25LEPkw5P3Im"
   },
   "source": [
    "**Analyzing null values**"
   ]
  },
  {
   "cell_type": "markdown",
   "metadata": {
    "id": "IwgUxXsIRKXv"
   },
   "source": [
    "As we can see there are few columns that contain null values that are size, society, bath, balcony. we need to analyze those cloumns and decide whether we want to drop the cloumn or impute the values."
   ]
  },
  {
   "cell_type": "markdown",
   "metadata": {
    "id": "erqLDbnPSCf5"
   },
   "source": [
    "In the below code we have dropped few columns that are availability, area_type, society, balcony.\n"
   ]
  },
  {
   "cell_type": "markdown",
   "metadata": {
    "id": "dMT6weuOSp2H"
   },
   "source": [
    "**Reason for dropping 'area_type' column:** The \"area_type\" column may describe different types of areas such as built-up area, super built-up area, plot area, etc. However, for house price prediction, the specific type of area might not be as relevant as other factors like location, size, amenities, etc."
   ]
  },
  {
   "cell_type": "markdown",
   "metadata": {
    "id": "xaDqdP3BS1kM"
   },
   "source": [
    "**Reason for dropping 'availability' column:** The \"availability\" column typically indicates whether the property is ready-to-move, under construction, or other statuses related to availability. While this information may be important for certain analyses, for house price prediction, the availability status might not significantly influence the price prediction."
   ]
  },
  {
   "cell_type": "markdown",
   "metadata": {
    "id": "ZDlOXO6CS7EW"
   },
   "source": [
    "**Reason for dropping 'society' column:** The \"society\" column represents the housing society or community where the property is located. While the reputation or amenities of the society might influence the property's value, using this information directly in the model could lead to overfitting or introduce bias. Additionally, there are many unique society names or a significant number of missing values, including this column might not provide sufficient predictive power."
   ]
  },
  {
   "cell_type": "markdown",
   "metadata": {
    "id": "G4k0PGTCT--o"
   },
   "source": [
    "**Reason for dropping 'balcony' column:** The \"balcony\" column indicates the number of balconies in the property. While having balconies may affect the property's value, the exact number of balconies might not be as crucial for price prediction as other features. Additionally, there are many missing values in this column and it doesn't have a strong correlation with the target variable (house price), dropping it can improve model performance and reduce complexity."
   ]
  },
  {
   "cell_type": "code",
   "execution_count": 14,
   "metadata": {
    "id": "_rrfrQGOJmCC"
   },
   "outputs": [],
   "source": [
    "# 'inplace=True' ensures that the changes are made directly to the original DataFrame, house_data.\n",
    "house_data.drop(columns=['availability','area_type','society','balcony'],inplace=True)"
   ]
  },
  {
   "cell_type": "markdown",
   "metadata": {
    "id": "nHv-7kIMgjQJ"
   },
   "source": [
    "Here, the describe() function gives all the statistical data about the numberial columns in dataset fro example mean, minimum value, maximum value."
   ]
  },
  {
   "cell_type": "code",
   "execution_count": 15,
   "metadata": {
    "colab": {
     "base_uri": "https://localhost:8080/",
     "height": 300
    },
    "id": "EQdfJKXcSArf",
    "outputId": "099a3901-e63a-40a5-c3b0-b0624a0d0756"
   },
   "outputs": [
    {
     "data": {
      "text/html": [
       "<div>\n",
       "<style scoped>\n",
       "    .dataframe tbody tr th:only-of-type {\n",
       "        vertical-align: middle;\n",
       "    }\n",
       "\n",
       "    .dataframe tbody tr th {\n",
       "        vertical-align: top;\n",
       "    }\n",
       "\n",
       "    .dataframe thead th {\n",
       "        text-align: right;\n",
       "    }\n",
       "</style>\n",
       "<table border=\"1\" class=\"dataframe\">\n",
       "  <thead>\n",
       "    <tr style=\"text-align: right;\">\n",
       "      <th></th>\n",
       "      <th>bath</th>\n",
       "      <th>price</th>\n",
       "    </tr>\n",
       "  </thead>\n",
       "  <tbody>\n",
       "    <tr>\n",
       "      <th>count</th>\n",
       "      <td>13247.000000</td>\n",
       "      <td>13320.000000</td>\n",
       "    </tr>\n",
       "    <tr>\n",
       "      <th>mean</th>\n",
       "      <td>2.692610</td>\n",
       "      <td>112.565627</td>\n",
       "    </tr>\n",
       "    <tr>\n",
       "      <th>std</th>\n",
       "      <td>1.341458</td>\n",
       "      <td>148.971674</td>\n",
       "    </tr>\n",
       "    <tr>\n",
       "      <th>min</th>\n",
       "      <td>1.000000</td>\n",
       "      <td>8.000000</td>\n",
       "    </tr>\n",
       "    <tr>\n",
       "      <th>25%</th>\n",
       "      <td>2.000000</td>\n",
       "      <td>50.000000</td>\n",
       "    </tr>\n",
       "    <tr>\n",
       "      <th>50%</th>\n",
       "      <td>2.000000</td>\n",
       "      <td>72.000000</td>\n",
       "    </tr>\n",
       "    <tr>\n",
       "      <th>75%</th>\n",
       "      <td>3.000000</td>\n",
       "      <td>120.000000</td>\n",
       "    </tr>\n",
       "    <tr>\n",
       "      <th>max</th>\n",
       "      <td>40.000000</td>\n",
       "      <td>3600.000000</td>\n",
       "    </tr>\n",
       "  </tbody>\n",
       "</table>\n",
       "</div>"
      ],
      "text/plain": [
       "               bath         price\n",
       "count  13247.000000  13320.000000\n",
       "mean       2.692610    112.565627\n",
       "std        1.341458    148.971674\n",
       "min        1.000000      8.000000\n",
       "25%        2.000000     50.000000\n",
       "50%        2.000000     72.000000\n",
       "75%        3.000000    120.000000\n",
       "max       40.000000   3600.000000"
      ]
     },
     "execution_count": 15,
     "metadata": {},
     "output_type": "execute_result"
    }
   ],
   "source": [
    "house_data.describe()"
   ]
  },
  {
   "cell_type": "code",
   "execution_count": 16,
   "metadata": {
    "colab": {
     "base_uri": "https://localhost:8080/",
     "height": 0
    },
    "id": "YgBZmJF4ht7W",
    "outputId": "ab27d579-4a4f-4b5e-ef07-aabbfe635961"
   },
   "outputs": [
    {
     "name": "stdout",
     "output_type": "stream",
     "text": [
      "<class 'pandas.core.frame.DataFrame'>\n",
      "RangeIndex: 13320 entries, 0 to 13319\n",
      "Data columns (total 5 columns):\n",
      " #   Column      Non-Null Count  Dtype  \n",
      "---  ------      --------------  -----  \n",
      " 0   location    13319 non-null  object \n",
      " 1   size        13304 non-null  object \n",
      " 2   total_sqft  13320 non-null  object \n",
      " 3   bath        13247 non-null  float64\n",
      " 4   price       13320 non-null  float64\n",
      "dtypes: float64(2), object(3)\n",
      "memory usage: 520.4+ KB\n"
     ]
    }
   ],
   "source": [
    "house_data.info()"
   ]
  },
  {
   "cell_type": "markdown",
   "metadata": {
    "id": "tXHa0jGUa18V"
   },
   "source": [
    "### **6) Handling Categorical Variables**"
   ]
  },
  {
   "cell_type": "markdown",
   "metadata": {
    "id": "dCUWoSTThxC2"
   },
   "source": [
    "As we can see even after dropping the few cloumns we still have some columns left which contain null values so let's start by imputing values in those columns."
   ]
  },
  {
   "cell_type": "markdown",
   "metadata": {
    "id": "8MaSF2tuiSE-"
   },
   "source": [
    "In loctaion column we have one null value. Let's see the value count of location column which gives the maximum no. of times a record has occured."
   ]
  },
  {
   "cell_type": "code",
   "execution_count": 17,
   "metadata": {
    "colab": {
     "base_uri": "https://localhost:8080/",
     "height": 0
    },
    "id": "R6HtH_VAh-I8",
    "outputId": "4a0cfb0c-1123-4a45-dcca-f9bbad0f6588"
   },
   "outputs": [
    {
     "data": {
      "text/plain": [
       "Whitefield                        540\n",
       "Sarjapur  Road                    399\n",
       "Electronic City                   302\n",
       "Kanakpura Road                    273\n",
       "Thanisandra                       234\n",
       "                                 ... \n",
       "Bapuji Layout                       1\n",
       "1st Stage Radha Krishna Layout      1\n",
       "BEML Layout 5th stage               1\n",
       "singapura paradise                  1\n",
       "Abshot Layout                       1\n",
       "Name: location, Length: 1305, dtype: int64"
      ]
     },
     "execution_count": 17,
     "metadata": {},
     "output_type": "execute_result"
    }
   ],
   "source": [
    "house_data['location'].value_counts()"
   ]
  },
  {
   "cell_type": "markdown",
   "metadata": {
    "id": "uiWWWlIpisYB"
   },
   "source": [
    "As we can see in above data we have Whitefield and Sarjapur Road location which has occured most number of times so we can impute any of those value."
   ]
  },
  {
   "cell_type": "code",
   "execution_count": 18,
   "metadata": {
    "id": "uHT2GlvyiqDV"
   },
   "outputs": [],
   "source": [
    "house_data['location'] = house_data['location'].fillna('Sarjapur Road')"
   ]
  },
  {
   "cell_type": "markdown",
   "metadata": {
    "id": "dDiBnVssjb0c"
   },
   "source": [
    "In size column we have 16 null value. Let's see the value count of size column which gives the maximum no. of times a record has occured."
   ]
  },
  {
   "cell_type": "code",
   "execution_count": 19,
   "metadata": {
    "colab": {
     "base_uri": "https://localhost:8080/",
     "height": 0
    },
    "id": "cC-OuX1EjPkI",
    "outputId": "ef0ed74b-a1bf-416a-e364-2faf9cd74c9e"
   },
   "outputs": [
    {
     "data": {
      "text/plain": [
       "2 BHK         5199\n",
       "3 BHK         4310\n",
       "4 Bedroom      826\n",
       "4 BHK          591\n",
       "3 Bedroom      547\n",
       "1 BHK          538\n",
       "2 Bedroom      329\n",
       "5 Bedroom      297\n",
       "6 Bedroom      191\n",
       "1 Bedroom      105\n",
       "8 Bedroom       84\n",
       "7 Bedroom       83\n",
       "5 BHK           59\n",
       "9 Bedroom       46\n",
       "6 BHK           30\n",
       "7 BHK           17\n",
       "1 RK            13\n",
       "10 Bedroom      12\n",
       "9 BHK            8\n",
       "8 BHK            5\n",
       "11 BHK           2\n",
       "11 Bedroom       2\n",
       "10 BHK           2\n",
       "14 BHK           1\n",
       "13 BHK           1\n",
       "12 Bedroom       1\n",
       "27 BHK           1\n",
       "43 Bedroom       1\n",
       "16 BHK           1\n",
       "19 BHK           1\n",
       "18 Bedroom       1\n",
       "Name: size, dtype: int64"
      ]
     },
     "execution_count": 19,
     "metadata": {},
     "output_type": "execute_result"
    }
   ],
   "source": [
    "house_data['size'].value_counts()"
   ]
  },
  {
   "cell_type": "markdown",
   "metadata": {
    "id": "yA0AomPClPRW"
   },
   "source": [
    "As we can see in above data we have 2 BHK size which has occured most number of times so we can impute this value in place of null values."
   ]
  },
  {
   "cell_type": "code",
   "execution_count": 20,
   "metadata": {
    "id": "YfD5jF0tj4Kk"
   },
   "outputs": [],
   "source": [
    "house_data['size'] = house_data['size'].fillna('2 BHK')"
   ]
  },
  {
   "cell_type": "markdown",
   "metadata": {
    "id": "PvpJjB64mESA"
   },
   "source": [
    "Next, we have bath cloumn which is a numerical column and it has 73 missing values. So, we will replace the null values with it's median."
   ]
  },
  {
   "cell_type": "code",
   "execution_count": 21,
   "metadata": {
    "id": "iL8MwBCAl3Rs"
   },
   "outputs": [],
   "source": [
    "house_data['bath'] = house_data['bath'].fillna(house_data['bath'].median())"
   ]
  },
  {
   "cell_type": "markdown",
   "metadata": {
    "id": "oJbsht5woIv9"
   },
   "source": [
    "Here, as seen in the size column we have bhk and bedroom which are in string. So, so using split() function we split it according to space using get(0) and whatever string we get convert it into int and save in new coumn 'bhk'."
   ]
  },
  {
   "cell_type": "code",
   "execution_count": 22,
   "metadata": {
    "id": "7h8gE8X9mqXz"
   },
   "outputs": [],
   "source": [
    "house_data['bhk'] = house_data['size'].str.split().str.get(0).astype(int)"
   ]
  },
  {
   "cell_type": "markdown",
   "metadata": {
    "id": "nnO0LCvyrZqS"
   },
   "source": [
    "**Outliers**"
   ]
  },
  {
   "cell_type": "markdown",
   "metadata": {
    "id": "K5kJSWMsrcvc"
   },
   "source": [
    "In the size column where the bhk is greater than 20 we can say these are outliers and there are 2 such values and  we need to fix them."
   ]
  },
  {
   "cell_type": "code",
   "execution_count": 23,
   "metadata": {
    "colab": {
     "base_uri": "https://localhost:8080/",
     "height": 112
    },
    "id": "RUexa-0PoA2s",
    "outputId": "e563a422-fb33-4a60-efd2-0876913cd7f4"
   },
   "outputs": [
    {
     "data": {
      "text/html": [
       "<div>\n",
       "<style scoped>\n",
       "    .dataframe tbody tr th:only-of-type {\n",
       "        vertical-align: middle;\n",
       "    }\n",
       "\n",
       "    .dataframe tbody tr th {\n",
       "        vertical-align: top;\n",
       "    }\n",
       "\n",
       "    .dataframe thead th {\n",
       "        text-align: right;\n",
       "    }\n",
       "</style>\n",
       "<table border=\"1\" class=\"dataframe\">\n",
       "  <thead>\n",
       "    <tr style=\"text-align: right;\">\n",
       "      <th></th>\n",
       "      <th>location</th>\n",
       "      <th>size</th>\n",
       "      <th>total_sqft</th>\n",
       "      <th>bath</th>\n",
       "      <th>price</th>\n",
       "      <th>bhk</th>\n",
       "    </tr>\n",
       "  </thead>\n",
       "  <tbody>\n",
       "    <tr>\n",
       "      <th>1718</th>\n",
       "      <td>2Electronic City Phase II</td>\n",
       "      <td>27 BHK</td>\n",
       "      <td>8000</td>\n",
       "      <td>27.0</td>\n",
       "      <td>230.0</td>\n",
       "      <td>27</td>\n",
       "    </tr>\n",
       "    <tr>\n",
       "      <th>4684</th>\n",
       "      <td>Munnekollal</td>\n",
       "      <td>43 Bedroom</td>\n",
       "      <td>2400</td>\n",
       "      <td>40.0</td>\n",
       "      <td>660.0</td>\n",
       "      <td>43</td>\n",
       "    </tr>\n",
       "  </tbody>\n",
       "</table>\n",
       "</div>"
      ],
      "text/plain": [
       "                       location        size total_sqft  bath  price  bhk\n",
       "1718  2Electronic City Phase II      27 BHK       8000  27.0  230.0   27\n",
       "4684                Munnekollal  43 Bedroom       2400  40.0  660.0   43"
      ]
     },
     "execution_count": 23,
     "metadata": {},
     "output_type": "execute_result"
    }
   ],
   "source": [
    "house_data[house_data.bhk>20]"
   ]
  },
  {
   "cell_type": "markdown",
   "metadata": {
    "id": "uChXWvBpsk5N"
   },
   "source": [
    "**Analyzing the total_sqft column for removing the range**"
   ]
  },
  {
   "cell_type": "markdown",
   "metadata": {
    "id": "yGPp04pHtRi0"
   },
   "source": [
    "Below code will give array of unique values present in the 'total_sqft' column of your DataFrame."
   ]
  },
  {
   "cell_type": "code",
   "execution_count": 24,
   "metadata": {
    "colab": {
     "base_uri": "https://localhost:8080/",
     "height": 0
    },
    "id": "lZNCBKx4rYX-",
    "outputId": "062232f9-5ccc-4a00-8fd7-9e654b2d3457"
   },
   "outputs": [
    {
     "data": {
      "text/plain": [
       "array(['1056', '2600', '1440', ..., '1133 - 1384', '774', '4689'],\n",
       "      dtype=object)"
      ]
     },
     "execution_count": 24,
     "metadata": {},
     "output_type": "execute_result"
    }
   ],
   "source": [
    "house_data['total_sqft'].unique()"
   ]
  },
  {
   "cell_type": "markdown",
   "metadata": {
    "id": "Yy-F636cu-S3"
   },
   "source": [
    "Here, we have defined a converRange function which aims to convert strings representing numerical ranges into their numerical equivalent, summing the lower and upper bounds if they exist."
   ]
  },
  {
   "cell_type": "code",
   "execution_count": 25,
   "metadata": {
    "id": "Np1VxVMXtC0Y"
   },
   "outputs": [],
   "source": [
    "# Define a function named 'convertRange' to convert numerical ranges into their numerical equivalent\n",
    "def convertRange(x):\n",
    "    # Split the input string 'x' based on the '-' delimiter\n",
    "    temp = x.split('-')\n",
    "\n",
    "    # Check if the string 'x' represents a numerical range\n",
    "    if len(temp) == 2:\n",
    "        # If it's a range, convert the lower and upper bounds to floats, sum them, and return the result\n",
    "        return (float(temp[0]) + float(temp[1]))\n",
    "\n",
    "    # If the string 'x' does not represent a range, attempt to convert it to a float\n",
    "    try:\n",
    "        # If successful, return the float value\n",
    "        return float(x)\n",
    "    # Handle exceptions (e.g., if 'x' contains non-numeric characters)\n",
    "    except:\n",
    "        # If conversion fails, return None\n",
    "        return None"
   ]
  },
  {
   "cell_type": "markdown",
   "metadata": {
    "id": "16hicDouu3nT"
   },
   "source": [
    "Below line would apply the 'convertRange' function to each value in the 'total_sqft' column of your DataFrame."
   ]
  },
  {
   "cell_type": "code",
   "execution_count": 26,
   "metadata": {
    "id": "x5v5cpI0t-F6"
   },
   "outputs": [],
   "source": [
    "house_data['total_sqft'] = house_data['total_sqft'].apply(convertRange)"
   ]
  },
  {
   "cell_type": "code",
   "execution_count": 27,
   "metadata": {
    "colab": {
     "base_uri": "https://localhost:8080/",
     "height": 206
    },
    "id": "SNhYkEEduKcy",
    "outputId": "219fb265-43c0-43be-e4a2-8820abb21e7a"
   },
   "outputs": [
    {
     "data": {
      "text/html": [
       "<div>\n",
       "<style scoped>\n",
       "    .dataframe tbody tr th:only-of-type {\n",
       "        vertical-align: middle;\n",
       "    }\n",
       "\n",
       "    .dataframe tbody tr th {\n",
       "        vertical-align: top;\n",
       "    }\n",
       "\n",
       "    .dataframe thead th {\n",
       "        text-align: right;\n",
       "    }\n",
       "</style>\n",
       "<table border=\"1\" class=\"dataframe\">\n",
       "  <thead>\n",
       "    <tr style=\"text-align: right;\">\n",
       "      <th></th>\n",
       "      <th>location</th>\n",
       "      <th>size</th>\n",
       "      <th>total_sqft</th>\n",
       "      <th>bath</th>\n",
       "      <th>price</th>\n",
       "      <th>bhk</th>\n",
       "    </tr>\n",
       "  </thead>\n",
       "  <tbody>\n",
       "    <tr>\n",
       "      <th>0</th>\n",
       "      <td>Electronic City Phase II</td>\n",
       "      <td>2 BHK</td>\n",
       "      <td>1056.0</td>\n",
       "      <td>2.0</td>\n",
       "      <td>39.07</td>\n",
       "      <td>2</td>\n",
       "    </tr>\n",
       "    <tr>\n",
       "      <th>1</th>\n",
       "      <td>Chikka Tirupathi</td>\n",
       "      <td>4 Bedroom</td>\n",
       "      <td>2600.0</td>\n",
       "      <td>5.0</td>\n",
       "      <td>120.00</td>\n",
       "      <td>4</td>\n",
       "    </tr>\n",
       "    <tr>\n",
       "      <th>2</th>\n",
       "      <td>Uttarahalli</td>\n",
       "      <td>3 BHK</td>\n",
       "      <td>1440.0</td>\n",
       "      <td>2.0</td>\n",
       "      <td>62.00</td>\n",
       "      <td>3</td>\n",
       "    </tr>\n",
       "    <tr>\n",
       "      <th>3</th>\n",
       "      <td>Lingadheeranahalli</td>\n",
       "      <td>3 BHK</td>\n",
       "      <td>1521.0</td>\n",
       "      <td>3.0</td>\n",
       "      <td>95.00</td>\n",
       "      <td>3</td>\n",
       "    </tr>\n",
       "    <tr>\n",
       "      <th>4</th>\n",
       "      <td>Kothanur</td>\n",
       "      <td>2 BHK</td>\n",
       "      <td>1200.0</td>\n",
       "      <td>2.0</td>\n",
       "      <td>51.00</td>\n",
       "      <td>2</td>\n",
       "    </tr>\n",
       "  </tbody>\n",
       "</table>\n",
       "</div>"
      ],
      "text/plain": [
       "                   location       size  total_sqft  bath   price  bhk\n",
       "0  Electronic City Phase II      2 BHK      1056.0   2.0   39.07    2\n",
       "1          Chikka Tirupathi  4 Bedroom      2600.0   5.0  120.00    4\n",
       "2               Uttarahalli      3 BHK      1440.0   2.0   62.00    3\n",
       "3        Lingadheeranahalli      3 BHK      1521.0   3.0   95.00    3\n",
       "4                  Kothanur      2 BHK      1200.0   2.0   51.00    2"
      ]
     },
     "execution_count": 27,
     "metadata": {},
     "output_type": "execute_result"
    }
   ],
   "source": [
    "house_data.head()"
   ]
  },
  {
   "cell_type": "markdown",
   "metadata": {
    "id": "xNKwr6MzwXEz"
   },
   "source": [
    "**Price per square feet**"
   ]
  },
  {
   "cell_type": "markdown",
   "metadata": {
    "id": "36IsqD2KwasM"
   },
   "source": [
    "Here, price column has the value in lakhs we will add a new column price per square feet which will have data in rupees. To get price per square feet we will divide price by total_sqft but it will give value in lakhs so we multiply price by 100000 to get value in rupees."
   ]
  },
  {
   "cell_type": "code",
   "execution_count": 28,
   "metadata": {
    "id": "LZpqF1R8uOBc"
   },
   "outputs": [],
   "source": [
    "house_data['price_per_sqft'] = house_data['price'] * 100000 / house_data['total_sqft']"
   ]
  },
  {
   "cell_type": "code",
   "execution_count": 29,
   "metadata": {
    "colab": {
     "base_uri": "https://localhost:8080/",
     "height": 0
    },
    "id": "e3k4JidkxLK1",
    "outputId": "12c0bc6c-0a1d-40fc-b36f-857a21b3ff82"
   },
   "outputs": [
    {
     "data": {
      "text/plain": [
       "0         3699.810606\n",
       "1         4615.384615\n",
       "2         4305.555556\n",
       "3         6245.890861\n",
       "4         4250.000000\n",
       "             ...     \n",
       "13315     6689.834926\n",
       "13316    11111.111111\n",
       "13317     5258.545136\n",
       "13318    10407.336319\n",
       "13319     3090.909091\n",
       "Name: price_per_sqft, Length: 13320, dtype: float64"
      ]
     },
     "execution_count": 29,
     "metadata": {},
     "output_type": "execute_result"
    }
   ],
   "source": [
    "house_data['price_per_sqft']"
   ]
  },
  {
   "cell_type": "code",
   "execution_count": 30,
   "metadata": {
    "colab": {
     "base_uri": "https://localhost:8080/",
     "height": 300
    },
    "id": "-Dyp2k1sxRuU",
    "outputId": "87a2b579-6be4-4ec3-a82a-98d3f70383c5"
   },
   "outputs": [
    {
     "data": {
      "text/html": [
       "<div>\n",
       "<style scoped>\n",
       "    .dataframe tbody tr th:only-of-type {\n",
       "        vertical-align: middle;\n",
       "    }\n",
       "\n",
       "    .dataframe tbody tr th {\n",
       "        vertical-align: top;\n",
       "    }\n",
       "\n",
       "    .dataframe thead th {\n",
       "        text-align: right;\n",
       "    }\n",
       "</style>\n",
       "<table border=\"1\" class=\"dataframe\">\n",
       "  <thead>\n",
       "    <tr style=\"text-align: right;\">\n",
       "      <th></th>\n",
       "      <th>total_sqft</th>\n",
       "      <th>bath</th>\n",
       "      <th>price</th>\n",
       "      <th>bhk</th>\n",
       "      <th>price_per_sqft</th>\n",
       "    </tr>\n",
       "  </thead>\n",
       "  <tbody>\n",
       "    <tr>\n",
       "      <th>count</th>\n",
       "      <td>13274.000000</td>\n",
       "      <td>13320.000000</td>\n",
       "      <td>13320.000000</td>\n",
       "      <td>13320.000000</td>\n",
       "      <td>1.327400e+04</td>\n",
       "    </tr>\n",
       "    <tr>\n",
       "      <th>mean</th>\n",
       "      <td>1587.856887</td>\n",
       "      <td>2.688814</td>\n",
       "      <td>112.565627</td>\n",
       "      <td>2.802778</td>\n",
       "      <td>7.868363e+03</td>\n",
       "    </tr>\n",
       "    <tr>\n",
       "      <th>std</th>\n",
       "      <td>1291.390407</td>\n",
       "      <td>1.338754</td>\n",
       "      <td>148.971674</td>\n",
       "      <td>1.294496</td>\n",
       "      <td>1.064309e+05</td>\n",
       "    </tr>\n",
       "    <tr>\n",
       "      <th>min</th>\n",
       "      <td>1.000000</td>\n",
       "      <td>1.000000</td>\n",
       "      <td>8.000000</td>\n",
       "      <td>1.000000</td>\n",
       "      <td>2.678298e+02</td>\n",
       "    </tr>\n",
       "    <tr>\n",
       "      <th>25%</th>\n",
       "      <td>1100.000000</td>\n",
       "      <td>2.000000</td>\n",
       "      <td>50.000000</td>\n",
       "      <td>2.000000</td>\n",
       "      <td>4.216355e+03</td>\n",
       "    </tr>\n",
       "    <tr>\n",
       "      <th>50%</th>\n",
       "      <td>1282.000000</td>\n",
       "      <td>2.000000</td>\n",
       "      <td>72.000000</td>\n",
       "      <td>3.000000</td>\n",
       "      <td>5.415005e+03</td>\n",
       "    </tr>\n",
       "    <tr>\n",
       "      <th>75%</th>\n",
       "      <td>1691.800000</td>\n",
       "      <td>3.000000</td>\n",
       "      <td>120.000000</td>\n",
       "      <td>3.000000</td>\n",
       "      <td>7.288013e+03</td>\n",
       "    </tr>\n",
       "    <tr>\n",
       "      <th>max</th>\n",
       "      <td>52272.000000</td>\n",
       "      <td>40.000000</td>\n",
       "      <td>3600.000000</td>\n",
       "      <td>43.000000</td>\n",
       "      <td>1.200000e+07</td>\n",
       "    </tr>\n",
       "  </tbody>\n",
       "</table>\n",
       "</div>"
      ],
      "text/plain": [
       "         total_sqft          bath         price           bhk  price_per_sqft\n",
       "count  13274.000000  13320.000000  13320.000000  13320.000000    1.327400e+04\n",
       "mean    1587.856887      2.688814    112.565627      2.802778    7.868363e+03\n",
       "std     1291.390407      1.338754    148.971674      1.294496    1.064309e+05\n",
       "min        1.000000      1.000000      8.000000      1.000000    2.678298e+02\n",
       "25%     1100.000000      2.000000     50.000000      2.000000    4.216355e+03\n",
       "50%     1282.000000      2.000000     72.000000      3.000000    5.415005e+03\n",
       "75%     1691.800000      3.000000    120.000000      3.000000    7.288013e+03\n",
       "max    52272.000000     40.000000   3600.000000     43.000000    1.200000e+07"
      ]
     },
     "execution_count": 30,
     "metadata": {},
     "output_type": "execute_result"
    }
   ],
   "source": [
    "house_data.describe()"
   ]
  },
  {
   "cell_type": "markdown",
   "metadata": {
    "id": "5HzE6LDyUISQ"
   },
   "source": [
    "There are 1306 locations if we do one hot encode there will be 1306 columns so we cannot pass this to the model. Therefore, we have to reduce the number of locations."
   ]
  },
  {
   "cell_type": "markdown",
   "metadata": {
    "id": "WBNOBrT-Uqu3"
   },
   "source": [
    "To do so the location that has occuranece less  then 10 we will replace it with 'others'."
   ]
  },
  {
   "cell_type": "code",
   "execution_count": 31,
   "metadata": {
    "colab": {
     "base_uri": "https://localhost:8080/",
     "height": 0
    },
    "id": "JzyUj_KhxxYl",
    "outputId": "cf3db6f8-4a71-491f-92c4-86ca3ff997db"
   },
   "outputs": [
    {
     "data": {
      "text/plain": [
       "Whitefield                        540\n",
       "Sarjapur  Road                    399\n",
       "Electronic City                   302\n",
       "Kanakpura Road                    273\n",
       "Thanisandra                       234\n",
       "                                 ... \n",
       "1st Stage Radha Krishna Layout      1\n",
       "BEML Layout 5th stage               1\n",
       "singapura paradise                  1\n",
       "Uvce Layout                         1\n",
       "Abshot Layout                       1\n",
       "Name: location, Length: 1306, dtype: int64"
      ]
     },
     "execution_count": 31,
     "metadata": {},
     "output_type": "execute_result"
    }
   ],
   "source": [
    "house_data['location'].value_counts()"
   ]
  },
  {
   "cell_type": "markdown",
   "metadata": {
    "id": "Ea7Z9vXfVLm_"
   },
   "source": [
    "Here, we have passed a lamda function to apply so for every location x.strip() is performed and saved back to location and the sapce in front an back of location will be removed."
   ]
  },
  {
   "cell_type": "code",
   "execution_count": 32,
   "metadata": {
    "id": "l-agEK5Y1BxS"
   },
   "outputs": [],
   "source": [
    "house_data['location'] = house_data['location'].apply(lambda x: x.strip())\n",
    "location_count = house_data['location'].value_counts()"
   ]
  },
  {
   "cell_type": "code",
   "execution_count": 33,
   "metadata": {
    "colab": {
     "base_uri": "https://localhost:8080/",
     "height": 0
    },
    "id": "aH-eV7uBVGW9",
    "outputId": "1808871e-1650-424d-c2cd-ac73f066e16e"
   },
   "outputs": [
    {
     "data": {
      "text/plain": [
       "Whitefield                            541\n",
       "Sarjapur  Road                        399\n",
       "Electronic City                       304\n",
       "Kanakpura Road                        273\n",
       "Thanisandra                           237\n",
       "                                     ... \n",
       "1Channasandra                           1\n",
       "Hosahalli                               1\n",
       "Vijayabank bank layout                  1\n",
       "near Ramanashree California resort      1\n",
       "Abshot Layout                           1\n",
       "Name: location, Length: 1295, dtype: int64"
      ]
     },
     "execution_count": 33,
     "metadata": {},
     "output_type": "execute_result"
    }
   ],
   "source": [
    "location_count"
   ]
  },
  {
   "cell_type": "markdown",
   "metadata": {
    "id": "J1jN6d2BV6Eh"
   },
   "source": [
    "we will see the locations that has count less than 10, there are 1054 locations that have occured 10 or less than 10 times."
   ]
  },
  {
   "cell_type": "code",
   "execution_count": 34,
   "metadata": {
    "colab": {
     "base_uri": "https://localhost:8080/",
     "height": 0
    },
    "id": "7I3wxhIk1Vho",
    "outputId": "0232af2d-0fac-423e-e77d-42c8296b1209"
   },
   "outputs": [
    {
     "data": {
      "text/plain": [
       "BTM 1st Stage                         10\n",
       "Nagadevanahalli                       10\n",
       "Basapura                              10\n",
       "Sector 1 HSR Layout                   10\n",
       "Dairy Circle                          10\n",
       "                                      ..\n",
       "1Channasandra                          1\n",
       "Hosahalli                              1\n",
       "Vijayabank bank layout                 1\n",
       "near Ramanashree California resort     1\n",
       "Abshot Layout                          1\n",
       "Name: location, Length: 1054, dtype: int64"
      ]
     },
     "execution_count": 34,
     "metadata": {},
     "output_type": "execute_result"
    }
   ],
   "source": [
    "location_count_less_10 = location_count[location_count<=10]\n",
    "location_count_less_10"
   ]
  },
  {
   "cell_type": "markdown",
   "metadata": {
    "id": "Y0DeKH4mWn84"
   },
   "source": [
    "Changing the location to 'others' that have occured 10 or less than 10 times."
   ]
  },
  {
   "cell_type": "markdown",
   "metadata": {
    "id": "tyxgkzm_W4Cn"
   },
   "source": [
    "The line of code is using a lambda function along with the apply() method to modify the 'location' column."
   ]
  },
  {
   "cell_type": "code",
   "execution_count": 35,
   "metadata": {
    "id": "W19EavG01iIN"
   },
   "outputs": [],
   "source": [
    "# Apply a lambda function to the 'location' column of the 'house_data' DataFrame\n",
    "# The lambda function replaces locations with fewer than 10 occurrences with the string 'other'\n",
    "house_data['location'] = house_data['location'].apply(lambda x: 'other' if x in location_count_less_10 else x)"
   ]
  },
  {
   "cell_type": "markdown",
   "metadata": {
    "id": "eF6lojmjZ6SW"
   },
   "source": [
    "Here, the number of locations has reduced to 242 so, if we do one hot encoding then there will be 242 columns which we can feed to the model."
   ]
  },
  {
   "cell_type": "code",
   "execution_count": 36,
   "metadata": {
    "colab": {
     "base_uri": "https://localhost:8080/",
     "height": 0
    },
    "id": "96gmGEIEY4D1",
    "outputId": "66121830-070f-4d74-f9a7-ef12dc372043"
   },
   "outputs": [
    {
     "data": {
      "text/plain": [
       "other                 2886\n",
       "Whitefield             541\n",
       "Sarjapur  Road         399\n",
       "Electronic City        304\n",
       "Kanakpura Road         273\n",
       "                      ... \n",
       "Nehru Nagar             11\n",
       "Banjara Layout          11\n",
       "LB Shastri Nagar        11\n",
       "Pattandur Agrahara      11\n",
       "Narayanapura            11\n",
       "Name: location, Length: 242, dtype: int64"
      ]
     },
     "execution_count": 36,
     "metadata": {},
     "output_type": "execute_result"
    }
   ],
   "source": [
    "house_data['location'].value_counts()"
   ]
  },
  {
   "cell_type": "markdown",
   "metadata": {
    "id": "sq2BXg7DAh7q"
   },
   "source": [
    "### **One Hot Encoding**"
   ]
  },
  {
   "cell_type": "code",
   "execution_count": 37,
   "metadata": {
    "id": "L_I8LMMY8x6c"
   },
   "outputs": [],
   "source": [
    "one_hot_encoded_location = pd.get_dummies(house_data['location'])"
   ]
  },
  {
   "cell_type": "code",
   "execution_count": 38,
   "metadata": {
    "id": "QXmTDTLt89Nw"
   },
   "outputs": [],
   "source": [
    "house_data_encoded = pd.concat([house_data.drop('location', axis=1), one_hot_encoded_location], axis=1)"
   ]
  },
  {
   "cell_type": "code",
   "execution_count": 39,
   "metadata": {
    "colab": {
     "base_uri": "https://localhost:8080/",
     "height": 0
    },
    "id": "qkC-cPLV9Qdo",
    "outputId": "9bbaebc6-65fe-4e13-ff41-51be3f3b6f24"
   },
   "outputs": [
    {
     "name": "stdout",
     "output_type": "stream",
     "text": [
      "        size  total_sqft  bath   price  bhk  price_per_sqft  \\\n",
      "0      2 BHK      1056.0   2.0   39.07    2     3699.810606   \n",
      "1  4 Bedroom      2600.0   5.0  120.00    4     4615.384615   \n",
      "2      3 BHK      1440.0   2.0   62.00    3     4305.555556   \n",
      "3      3 BHK      1521.0   3.0   95.00    3     6245.890861   \n",
      "4      2 BHK      1200.0   2.0   51.00    2     4250.000000   \n",
      "\n",
      "   1st Block Jayanagar  1st Phase JP Nagar  2nd Phase Judicial Layout  \\\n",
      "0                    0                   0                          0   \n",
      "1                    0                   0                          0   \n",
      "2                    0                   0                          0   \n",
      "3                    0                   0                          0   \n",
      "4                    0                   0                          0   \n",
      "\n",
      "   2nd Stage Nagarbhavi  ...  Vishveshwarya Layout  Vishwapriya Layout  \\\n",
      "0                     0  ...                     0                   0   \n",
      "1                     0  ...                     0                   0   \n",
      "2                     0  ...                     0                   0   \n",
      "3                     0  ...                     0                   0   \n",
      "4                     0  ...                     0                   0   \n",
      "\n",
      "   Vittasandra  Whitefield  Yelachenahalli  Yelahanka  Yelahanka New Town  \\\n",
      "0            0           0               0          0                   0   \n",
      "1            0           0               0          0                   0   \n",
      "2            0           0               0          0                   0   \n",
      "3            0           0               0          0                   0   \n",
      "4            0           0               0          0                   0   \n",
      "\n",
      "   Yelenahalli  Yeshwanthpur  other  \n",
      "0            0             0      0  \n",
      "1            0             0      0  \n",
      "2            0             0      0  \n",
      "3            0             0      0  \n",
      "4            0             0      0  \n",
      "\n",
      "[5 rows x 248 columns]\n"
     ]
    }
   ],
   "source": [
    "print(house_data_encoded.head())"
   ]
  },
  {
   "cell_type": "code",
   "execution_count": null,
   "metadata": {
    "id": "ne5crD3P9pVV"
   },
   "outputs": [],
   "source": []
  },
  {
   "cell_type": "markdown",
   "metadata": {
    "id": "I3xysSi_18v9"
   },
   "source": [
    "### **7) Outlier detection and Removal**"
   ]
  },
  {
   "cell_type": "markdown",
   "metadata": {
    "id": "JcV9vO94aiuk"
   },
   "source": [
    "In the below data we can there is a plot that has total_sqft of 1 which is not possible. So, we can surely say that it is an outlier."
   ]
  },
  {
   "cell_type": "code",
   "execution_count": 40,
   "metadata": {
    "colab": {
     "base_uri": "https://localhost:8080/",
     "height": 300
    },
    "id": "0Bi9Bb3b1ncn",
    "outputId": "e2bcb587-6ba3-4cc9-ed6b-31daeffc53b7"
   },
   "outputs": [
    {
     "data": {
      "text/html": [
       "<div>\n",
       "<style scoped>\n",
       "    .dataframe tbody tr th:only-of-type {\n",
       "        vertical-align: middle;\n",
       "    }\n",
       "\n",
       "    .dataframe tbody tr th {\n",
       "        vertical-align: top;\n",
       "    }\n",
       "\n",
       "    .dataframe thead th {\n",
       "        text-align: right;\n",
       "    }\n",
       "</style>\n",
       "<table border=\"1\" class=\"dataframe\">\n",
       "  <thead>\n",
       "    <tr style=\"text-align: right;\">\n",
       "      <th></th>\n",
       "      <th>total_sqft</th>\n",
       "      <th>bath</th>\n",
       "      <th>price</th>\n",
       "      <th>bhk</th>\n",
       "      <th>price_per_sqft</th>\n",
       "    </tr>\n",
       "  </thead>\n",
       "  <tbody>\n",
       "    <tr>\n",
       "      <th>count</th>\n",
       "      <td>13274.000000</td>\n",
       "      <td>13320.000000</td>\n",
       "      <td>13320.000000</td>\n",
       "      <td>13320.000000</td>\n",
       "      <td>1.327400e+04</td>\n",
       "    </tr>\n",
       "    <tr>\n",
       "      <th>mean</th>\n",
       "      <td>1587.856887</td>\n",
       "      <td>2.688814</td>\n",
       "      <td>112.565627</td>\n",
       "      <td>2.802778</td>\n",
       "      <td>7.868363e+03</td>\n",
       "    </tr>\n",
       "    <tr>\n",
       "      <th>std</th>\n",
       "      <td>1291.390407</td>\n",
       "      <td>1.338754</td>\n",
       "      <td>148.971674</td>\n",
       "      <td>1.294496</td>\n",
       "      <td>1.064309e+05</td>\n",
       "    </tr>\n",
       "    <tr>\n",
       "      <th>min</th>\n",
       "      <td>1.000000</td>\n",
       "      <td>1.000000</td>\n",
       "      <td>8.000000</td>\n",
       "      <td>1.000000</td>\n",
       "      <td>2.678298e+02</td>\n",
       "    </tr>\n",
       "    <tr>\n",
       "      <th>25%</th>\n",
       "      <td>1100.000000</td>\n",
       "      <td>2.000000</td>\n",
       "      <td>50.000000</td>\n",
       "      <td>2.000000</td>\n",
       "      <td>4.216355e+03</td>\n",
       "    </tr>\n",
       "    <tr>\n",
       "      <th>50%</th>\n",
       "      <td>1282.000000</td>\n",
       "      <td>2.000000</td>\n",
       "      <td>72.000000</td>\n",
       "      <td>3.000000</td>\n",
       "      <td>5.415005e+03</td>\n",
       "    </tr>\n",
       "    <tr>\n",
       "      <th>75%</th>\n",
       "      <td>1691.800000</td>\n",
       "      <td>3.000000</td>\n",
       "      <td>120.000000</td>\n",
       "      <td>3.000000</td>\n",
       "      <td>7.288013e+03</td>\n",
       "    </tr>\n",
       "    <tr>\n",
       "      <th>max</th>\n",
       "      <td>52272.000000</td>\n",
       "      <td>40.000000</td>\n",
       "      <td>3600.000000</td>\n",
       "      <td>43.000000</td>\n",
       "      <td>1.200000e+07</td>\n",
       "    </tr>\n",
       "  </tbody>\n",
       "</table>\n",
       "</div>"
      ],
      "text/plain": [
       "         total_sqft          bath         price           bhk  price_per_sqft\n",
       "count  13274.000000  13320.000000  13320.000000  13320.000000    1.327400e+04\n",
       "mean    1587.856887      2.688814    112.565627      2.802778    7.868363e+03\n",
       "std     1291.390407      1.338754    148.971674      1.294496    1.064309e+05\n",
       "min        1.000000      1.000000      8.000000      1.000000    2.678298e+02\n",
       "25%     1100.000000      2.000000     50.000000      2.000000    4.216355e+03\n",
       "50%     1282.000000      2.000000     72.000000      3.000000    5.415005e+03\n",
       "75%     1691.800000      3.000000    120.000000      3.000000    7.288013e+03\n",
       "max    52272.000000     40.000000   3600.000000     43.000000    1.200000e+07"
      ]
     },
     "execution_count": 40,
     "metadata": {},
     "output_type": "execute_result"
    }
   ],
   "source": [
    "house_data.describe()"
   ]
  },
  {
   "cell_type": "markdown",
   "metadata": {
    "id": "SRC0d07tbC2e"
   },
   "source": [
    "Here, if we divide total_sqft by bhk we will get how may square feet should be there in 1 bhk."
   ]
  },
  {
   "cell_type": "markdown",
   "metadata": {
    "id": "MgviX2ZBbYDu"
   },
   "source": [
    "After applying describe() we found that there is 0.2500 square feet's 1 bhk which again is an outlier."
   ]
  },
  {
   "cell_type": "markdown",
   "metadata": {
    "id": "UG9rktUCEH3S"
   },
   "source": [
    "In the graph we can observe outliers for total_sqft"
   ]
  },
  {
   "cell_type": "code",
   "execution_count": 41,
   "metadata": {
    "colab": {
     "base_uri": "https://localhost:8080/",
     "height": 0
    },
    "id": "4Nxx-eoT2Hr_",
    "outputId": "f026d277-5627-4f76-9263-e9da188c27df"
   },
   "outputs": [
    {
     "data": {
      "text/plain": [
       "count    13274.00000\n",
       "mean       585.57528\n",
       "std        403.35213\n",
       "min          0.25000\n",
       "25%        475.00000\n",
       "50%        554.00000\n",
       "75%        628.00000\n",
       "max      26136.00000\n",
       "dtype: float64"
      ]
     },
     "execution_count": 41,
     "metadata": {},
     "output_type": "execute_result"
    }
   ],
   "source": [
    "(house_data['total_sqft']/house_data['bhk']).describe()"
   ]
  },
  {
   "cell_type": "markdown",
   "metadata": {
    "id": "QyNMfsVPb46V"
   },
   "source": [
    "To remove the outliers we applied a condition i.e., we removed all those records which have less than 300 sqft for 1 bhk. So, now our minimum has become 300 sqft."
   ]
  },
  {
   "cell_type": "code",
   "execution_count": 42,
   "metadata": {
    "colab": {
     "base_uri": "https://localhost:8080/",
     "height": 300
    },
    "id": "I_OfwUpV2Sm8",
    "outputId": "b4eb5e49-510f-4399-eec2-b577448acd1f"
   },
   "outputs": [
    {
     "data": {
      "text/html": [
       "<div>\n",
       "<style scoped>\n",
       "    .dataframe tbody tr th:only-of-type {\n",
       "        vertical-align: middle;\n",
       "    }\n",
       "\n",
       "    .dataframe tbody tr th {\n",
       "        vertical-align: top;\n",
       "    }\n",
       "\n",
       "    .dataframe thead th {\n",
       "        text-align: right;\n",
       "    }\n",
       "</style>\n",
       "<table border=\"1\" class=\"dataframe\">\n",
       "  <thead>\n",
       "    <tr style=\"text-align: right;\">\n",
       "      <th></th>\n",
       "      <th>total_sqft</th>\n",
       "      <th>bath</th>\n",
       "      <th>price</th>\n",
       "      <th>bhk</th>\n",
       "      <th>price_per_sqft</th>\n",
       "    </tr>\n",
       "  </thead>\n",
       "  <tbody>\n",
       "    <tr>\n",
       "      <th>count</th>\n",
       "      <td>12530.000000</td>\n",
       "      <td>12530.000000</td>\n",
       "      <td>12530.000000</td>\n",
       "      <td>12530.000000</td>\n",
       "      <td>12530.000000</td>\n",
       "    </tr>\n",
       "    <tr>\n",
       "      <th>mean</th>\n",
       "      <td>1624.470975</td>\n",
       "      <td>2.559537</td>\n",
       "      <td>111.382401</td>\n",
       "      <td>2.650838</td>\n",
       "      <td>6262.517051</td>\n",
       "    </tr>\n",
       "    <tr>\n",
       "      <th>std</th>\n",
       "      <td>1315.547998</td>\n",
       "      <td>1.077938</td>\n",
       "      <td>152.077329</td>\n",
       "      <td>0.976678</td>\n",
       "      <td>4181.698408</td>\n",
       "    </tr>\n",
       "    <tr>\n",
       "      <th>min</th>\n",
       "      <td>300.000000</td>\n",
       "      <td>1.000000</td>\n",
       "      <td>8.440000</td>\n",
       "      <td>1.000000</td>\n",
       "      <td>267.829813</td>\n",
       "    </tr>\n",
       "    <tr>\n",
       "      <th>25%</th>\n",
       "      <td>1125.000000</td>\n",
       "      <td>2.000000</td>\n",
       "      <td>49.000000</td>\n",
       "      <td>2.000000</td>\n",
       "      <td>4166.825095</td>\n",
       "    </tr>\n",
       "    <tr>\n",
       "      <th>50%</th>\n",
       "      <td>1305.000000</td>\n",
       "      <td>2.000000</td>\n",
       "      <td>70.000000</td>\n",
       "      <td>3.000000</td>\n",
       "      <td>5268.245958</td>\n",
       "    </tr>\n",
       "    <tr>\n",
       "      <th>75%</th>\n",
       "      <td>1717.750000</td>\n",
       "      <td>3.000000</td>\n",
       "      <td>115.000000</td>\n",
       "      <td>3.000000</td>\n",
       "      <td>6896.551724</td>\n",
       "    </tr>\n",
       "    <tr>\n",
       "      <th>max</th>\n",
       "      <td>52272.000000</td>\n",
       "      <td>16.000000</td>\n",
       "      <td>3600.000000</td>\n",
       "      <td>16.000000</td>\n",
       "      <td>176470.588235</td>\n",
       "    </tr>\n",
       "  </tbody>\n",
       "</table>\n",
       "</div>"
      ],
      "text/plain": [
       "         total_sqft          bath         price           bhk  price_per_sqft\n",
       "count  12530.000000  12530.000000  12530.000000  12530.000000    12530.000000\n",
       "mean    1624.470975      2.559537    111.382401      2.650838     6262.517051\n",
       "std     1315.547998      1.077938    152.077329      0.976678     4181.698408\n",
       "min      300.000000      1.000000      8.440000      1.000000      267.829813\n",
       "25%     1125.000000      2.000000     49.000000      2.000000     4166.825095\n",
       "50%     1305.000000      2.000000     70.000000      3.000000     5268.245958\n",
       "75%     1717.750000      3.000000    115.000000      3.000000     6896.551724\n",
       "max    52272.000000     16.000000   3600.000000     16.000000   176470.588235"
      ]
     },
     "execution_count": 42,
     "metadata": {},
     "output_type": "execute_result"
    }
   ],
   "source": [
    "house_data = house_data[((house_data['total_sqft']/house_data['bhk']) >= 300 )]\n",
    "house_data.describe()"
   ]
  },
  {
   "cell_type": "markdown",
   "metadata": {
    "id": "p9WIjYT9cWO6"
   },
   "source": [
    "The number of rows have reduced."
   ]
  },
  {
   "cell_type": "code",
   "execution_count": 43,
   "metadata": {
    "colab": {
     "base_uri": "https://localhost:8080/",
     "height": 0
    },
    "id": "uXJD1OTZ2pE6",
    "outputId": "a8f39c82-e321-42eb-8739-5dc24cfac285"
   },
   "outputs": [
    {
     "data": {
      "text/plain": [
       "(12530, 7)"
      ]
     },
     "execution_count": 43,
     "metadata": {},
     "output_type": "execute_result"
    }
   ],
   "source": [
    "house_data.shape"
   ]
  },
  {
   "cell_type": "markdown",
   "metadata": {
    "id": "RcqPw78scbxt"
   },
   "source": [
    "When we applied describe() function on price_per_sqft we found that maximum value for per sqft is 176470.588 which is surely an outlier."
   ]
  },
  {
   "cell_type": "code",
   "execution_count": 44,
   "metadata": {
    "colab": {
     "base_uri": "https://localhost:8080/",
     "height": 0
    },
    "id": "la8_jUa-2s8R",
    "outputId": "33f823f7-c7e3-4ebe-e198-14d14dc801be"
   },
   "outputs": [
    {
     "data": {
      "text/plain": [
       "count     12530.000000\n",
       "mean       6262.517051\n",
       "std        4181.698408\n",
       "min         267.829813\n",
       "25%        4166.825095\n",
       "50%        5268.245958\n",
       "75%        6896.551724\n",
       "max      176470.588235\n",
       "Name: price_per_sqft, dtype: float64"
      ]
     },
     "execution_count": 44,
     "metadata": {},
     "output_type": "execute_result"
    }
   ],
   "source": [
    "house_data.price_per_sqft.describe()"
   ]
  },
  {
   "cell_type": "markdown",
   "metadata": {
    "id": "dpIHCbIPdNg-"
   },
   "source": [
    "To remove the outlier of price_per_Sqft we have written a function 'remove_outliers_sqft' which takes dataframe."
   ]
  },
  {
   "cell_type": "code",
   "execution_count": 45,
   "metadata": {
    "colab": {
     "base_uri": "https://localhost:8080/",
     "height": 300
    },
    "id": "5JawR94S21rA",
    "outputId": "a7d68974-869d-447b-ce93-720d60516545"
   },
   "outputs": [
    {
     "data": {
      "text/html": [
       "<div>\n",
       "<style scoped>\n",
       "    .dataframe tbody tr th:only-of-type {\n",
       "        vertical-align: middle;\n",
       "    }\n",
       "\n",
       "    .dataframe tbody tr th {\n",
       "        vertical-align: top;\n",
       "    }\n",
       "\n",
       "    .dataframe thead th {\n",
       "        text-align: right;\n",
       "    }\n",
       "</style>\n",
       "<table border=\"1\" class=\"dataframe\">\n",
       "  <thead>\n",
       "    <tr style=\"text-align: right;\">\n",
       "      <th></th>\n",
       "      <th>total_sqft</th>\n",
       "      <th>bath</th>\n",
       "      <th>price</th>\n",
       "      <th>bhk</th>\n",
       "      <th>price_per_sqft</th>\n",
       "    </tr>\n",
       "  </thead>\n",
       "  <tbody>\n",
       "    <tr>\n",
       "      <th>count</th>\n",
       "      <td>10267.000000</td>\n",
       "      <td>10267.000000</td>\n",
       "      <td>10267.000000</td>\n",
       "      <td>10267.000000</td>\n",
       "      <td>10267.000000</td>\n",
       "    </tr>\n",
       "    <tr>\n",
       "      <th>mean</th>\n",
       "      <td>1514.373100</td>\n",
       "      <td>2.469465</td>\n",
       "      <td>91.011917</td>\n",
       "      <td>2.573683</td>\n",
       "      <td>5643.208908</td>\n",
       "    </tr>\n",
       "    <tr>\n",
       "      <th>std</th>\n",
       "      <td>916.337739</td>\n",
       "      <td>0.970396</td>\n",
       "      <td>86.360434</td>\n",
       "      <td>0.892913</td>\n",
       "      <td>2273.138806</td>\n",
       "    </tr>\n",
       "    <tr>\n",
       "      <th>min</th>\n",
       "      <td>300.000000</td>\n",
       "      <td>1.000000</td>\n",
       "      <td>10.000000</td>\n",
       "      <td>1.000000</td>\n",
       "      <td>1250.000000</td>\n",
       "    </tr>\n",
       "    <tr>\n",
       "      <th>25%</th>\n",
       "      <td>1110.000000</td>\n",
       "      <td>2.000000</td>\n",
       "      <td>49.000000</td>\n",
       "      <td>2.000000</td>\n",
       "      <td>4210.526316</td>\n",
       "    </tr>\n",
       "    <tr>\n",
       "      <th>50%</th>\n",
       "      <td>1285.000000</td>\n",
       "      <td>2.000000</td>\n",
       "      <td>67.000000</td>\n",
       "      <td>2.000000</td>\n",
       "      <td>5161.290323</td>\n",
       "    </tr>\n",
       "    <tr>\n",
       "      <th>75%</th>\n",
       "      <td>1650.000000</td>\n",
       "      <td>3.000000</td>\n",
       "      <td>100.000000</td>\n",
       "      <td>3.000000</td>\n",
       "      <td>6422.844564</td>\n",
       "    </tr>\n",
       "    <tr>\n",
       "      <th>max</th>\n",
       "      <td>30400.000000</td>\n",
       "      <td>16.000000</td>\n",
       "      <td>2200.000000</td>\n",
       "      <td>16.000000</td>\n",
       "      <td>24509.803922</td>\n",
       "    </tr>\n",
       "  </tbody>\n",
       "</table>\n",
       "</div>"
      ],
      "text/plain": [
       "         total_sqft          bath         price           bhk  price_per_sqft\n",
       "count  10267.000000  10267.000000  10267.000000  10267.000000    10267.000000\n",
       "mean    1514.373100      2.469465     91.011917      2.573683     5643.208908\n",
       "std      916.337739      0.970396     86.360434      0.892913     2273.138806\n",
       "min      300.000000      1.000000     10.000000      1.000000     1250.000000\n",
       "25%     1110.000000      2.000000     49.000000      2.000000     4210.526316\n",
       "50%     1285.000000      2.000000     67.000000      2.000000     5161.290323\n",
       "75%     1650.000000      3.000000    100.000000      3.000000     6422.844564\n",
       "max    30400.000000     16.000000   2200.000000     16.000000    24509.803922"
      ]
     },
     "execution_count": 45,
     "metadata": {},
     "output_type": "execute_result"
    }
   ],
   "source": [
    "def remove_outliers_sqft(df):\n",
    "    # Initialize an empty DataFrame to store the filtered data\n",
    "    df_output = pd.DataFrame()\n",
    "\n",
    "    # Iterate over each group of dataframes grouped by 'location'\n",
    "    for key, subdf in df.groupby('location'):\n",
    "        # Calculate the mean and standard deviation of 'price_per_sqft' for the current location\n",
    "        m = np.mean(subdf.price_per_sqft)\n",
    "        st = np.std(subdf.price_per_sqft)\n",
    "\n",
    "        # Filter the current location's dataframe to remove outliers\n",
    "        gen_df = subdf[(subdf.price_per_sqft > (m - st)) & (subdf.price_per_sqft <= (m + st))]\n",
    "\n",
    "        # Concatenate the filtered dataframes with the output DataFrame\n",
    "        df_output = pd.concat([df_output, gen_df], ignore_index=True)\n",
    "\n",
    "    # Return the DataFrame with outliers removed\n",
    "    return df_output\n",
    "\n",
    "# Call the function to remove outliers from 'house_data' and assign the result back to 'house_data'\n",
    "house_data = remove_outliers_sqft(house_data)\n",
    "\n",
    "# Display summary statistics for the cleaned DataFrame\n",
    "house_data.describe()"
   ]
  },
  {
   "cell_type": "markdown",
   "metadata": {
    "id": "R4gn4v5zhjSe"
   },
   "source": [
    "The function bhk_outlier_remover(df) aims to remove outliers from the DataFrame df based on the number of bedrooms ('bhk') and the 'price_per_sqft' column, with consideration of statistics aggregated by location.\n"
   ]
  },
  {
   "cell_type": "code",
   "execution_count": 46,
   "metadata": {
    "id": "Uxkr7qM34hjj"
   },
   "outputs": [],
   "source": [
    "def bhk_outlier_remover(df):\n",
    "          exclude_indices = np.array([])\n",
    "          for location, location_df in df.groupby('location'):\n",
    "              bhk_stats = {}\n",
    "              for bhk, bhk_df in location_df.groupby('bhk'):\n",
    "                   bhk_stats[bhk] = {\n",
    "                       'mean': np.mean(bhk_df.price_per_sqft),\n",
    "                        'std': np.std(bhk_df.price_per_sqft),\n",
    "                        'count': bhk_df.shape[0]\n",
    "                   }\n",
    "              for bhk, bhk_df in location_df.groupby(\"bhk\"):\n",
    "                  stats = bhk_stats.get(bhk-1)\n",
    "                  if stats and stats['count']>5:\n",
    "                      exclude_indices = np.append(exclude_indices, bhk_df[bhk_df.price_per_sqft<(stats['mean'])].index.values)\n",
    "          return df.drop(exclude_indices, axis='index')"
   ]
  },
  {
   "cell_type": "markdown",
   "metadata": {
    "id": "C1k1qNkIiX1p"
   },
   "source": [
    "Applies the bhk_outlier_remover function to the 'house_data' DataFrame, removing outliers based on the statistics aggregated by location and bedroom count."
   ]
  },
  {
   "cell_type": "code",
   "execution_count": 47,
   "metadata": {
    "id": "aNWIKhZhkYYS"
   },
   "outputs": [],
   "source": [
    "house_data = bhk_outlier_remover(house_data)"
   ]
  },
  {
   "cell_type": "markdown",
   "metadata": {
    "id": "gHxxVsdwt0eR"
   },
   "source": [
    "We can observe that number of rows have reduced as we have removed outliers."
   ]
  },
  {
   "cell_type": "code",
   "execution_count": 48,
   "metadata": {
    "colab": {
     "base_uri": "https://localhost:8080/",
     "height": 0
    },
    "id": "xAoMEb-z7NDZ",
    "outputId": "7d1f65fc-f9f7-4c62-f89d-c49aab687ecf"
   },
   "outputs": [
    {
     "data": {
      "text/plain": [
       "(7339, 7)"
      ]
     },
     "execution_count": 48,
     "metadata": {},
     "output_type": "execute_result"
    }
   ],
   "source": [
    "house_data.shape"
   ]
  },
  {
   "cell_type": "code",
   "execution_count": 49,
   "metadata": {
    "colab": {
     "base_uri": "https://localhost:8080/",
     "height": 423
    },
    "id": "NLsjDEBEQYR3",
    "outputId": "a88c99f0-3256-42d5-fbe5-b9911d7cbeb1"
   },
   "outputs": [
    {
     "data": {
      "text/html": [
       "<div>\n",
       "<style scoped>\n",
       "    .dataframe tbody tr th:only-of-type {\n",
       "        vertical-align: middle;\n",
       "    }\n",
       "\n",
       "    .dataframe tbody tr th {\n",
       "        vertical-align: top;\n",
       "    }\n",
       "\n",
       "    .dataframe thead th {\n",
       "        text-align: right;\n",
       "    }\n",
       "</style>\n",
       "<table border=\"1\" class=\"dataframe\">\n",
       "  <thead>\n",
       "    <tr style=\"text-align: right;\">\n",
       "      <th></th>\n",
       "      <th>location</th>\n",
       "      <th>size</th>\n",
       "      <th>total_sqft</th>\n",
       "      <th>bath</th>\n",
       "      <th>price</th>\n",
       "      <th>bhk</th>\n",
       "      <th>price_per_sqft</th>\n",
       "    </tr>\n",
       "  </thead>\n",
       "  <tbody>\n",
       "    <tr>\n",
       "      <th>0</th>\n",
       "      <td>1st Block Jayanagar</td>\n",
       "      <td>4 BHK</td>\n",
       "      <td>2850.0</td>\n",
       "      <td>4.0</td>\n",
       "      <td>428.0</td>\n",
       "      <td>4</td>\n",
       "      <td>15017.543860</td>\n",
       "    </tr>\n",
       "    <tr>\n",
       "      <th>1</th>\n",
       "      <td>1st Block Jayanagar</td>\n",
       "      <td>3 BHK</td>\n",
       "      <td>1630.0</td>\n",
       "      <td>3.0</td>\n",
       "      <td>194.0</td>\n",
       "      <td>3</td>\n",
       "      <td>11901.840491</td>\n",
       "    </tr>\n",
       "    <tr>\n",
       "      <th>2</th>\n",
       "      <td>1st Block Jayanagar</td>\n",
       "      <td>3 BHK</td>\n",
       "      <td>1875.0</td>\n",
       "      <td>2.0</td>\n",
       "      <td>235.0</td>\n",
       "      <td>3</td>\n",
       "      <td>12533.333333</td>\n",
       "    </tr>\n",
       "    <tr>\n",
       "      <th>3</th>\n",
       "      <td>1st Block Jayanagar</td>\n",
       "      <td>3 BHK</td>\n",
       "      <td>1200.0</td>\n",
       "      <td>2.0</td>\n",
       "      <td>130.0</td>\n",
       "      <td>3</td>\n",
       "      <td>10833.333333</td>\n",
       "    </tr>\n",
       "    <tr>\n",
       "      <th>4</th>\n",
       "      <td>1st Block Jayanagar</td>\n",
       "      <td>2 BHK</td>\n",
       "      <td>1235.0</td>\n",
       "      <td>2.0</td>\n",
       "      <td>148.0</td>\n",
       "      <td>2</td>\n",
       "      <td>11983.805668</td>\n",
       "    </tr>\n",
       "    <tr>\n",
       "      <th>...</th>\n",
       "      <td>...</td>\n",
       "      <td>...</td>\n",
       "      <td>...</td>\n",
       "      <td>...</td>\n",
       "      <td>...</td>\n",
       "      <td>...</td>\n",
       "      <td>...</td>\n",
       "    </tr>\n",
       "    <tr>\n",
       "      <th>10258</th>\n",
       "      <td>other</td>\n",
       "      <td>2 BHK</td>\n",
       "      <td>1200.0</td>\n",
       "      <td>2.0</td>\n",
       "      <td>70.0</td>\n",
       "      <td>2</td>\n",
       "      <td>5833.333333</td>\n",
       "    </tr>\n",
       "    <tr>\n",
       "      <th>10259</th>\n",
       "      <td>other</td>\n",
       "      <td>1 BHK</td>\n",
       "      <td>1800.0</td>\n",
       "      <td>1.0</td>\n",
       "      <td>200.0</td>\n",
       "      <td>1</td>\n",
       "      <td>11111.111111</td>\n",
       "    </tr>\n",
       "    <tr>\n",
       "      <th>10262</th>\n",
       "      <td>other</td>\n",
       "      <td>2 BHK</td>\n",
       "      <td>1353.0</td>\n",
       "      <td>2.0</td>\n",
       "      <td>110.0</td>\n",
       "      <td>2</td>\n",
       "      <td>8130.081301</td>\n",
       "    </tr>\n",
       "    <tr>\n",
       "      <th>10263</th>\n",
       "      <td>other</td>\n",
       "      <td>1 Bedroom</td>\n",
       "      <td>812.0</td>\n",
       "      <td>1.0</td>\n",
       "      <td>26.0</td>\n",
       "      <td>1</td>\n",
       "      <td>3201.970443</td>\n",
       "    </tr>\n",
       "    <tr>\n",
       "      <th>10266</th>\n",
       "      <td>other</td>\n",
       "      <td>4 BHK</td>\n",
       "      <td>3600.0</td>\n",
       "      <td>5.0</td>\n",
       "      <td>400.0</td>\n",
       "      <td>4</td>\n",
       "      <td>11111.111111</td>\n",
       "    </tr>\n",
       "  </tbody>\n",
       "</table>\n",
       "<p>7339 rows × 7 columns</p>\n",
       "</div>"
      ],
      "text/plain": [
       "                  location       size  total_sqft  bath  price  bhk  \\\n",
       "0      1st Block Jayanagar      4 BHK      2850.0   4.0  428.0    4   \n",
       "1      1st Block Jayanagar      3 BHK      1630.0   3.0  194.0    3   \n",
       "2      1st Block Jayanagar      3 BHK      1875.0   2.0  235.0    3   \n",
       "3      1st Block Jayanagar      3 BHK      1200.0   2.0  130.0    3   \n",
       "4      1st Block Jayanagar      2 BHK      1235.0   2.0  148.0    2   \n",
       "...                    ...        ...         ...   ...    ...  ...   \n",
       "10258                other      2 BHK      1200.0   2.0   70.0    2   \n",
       "10259                other      1 BHK      1800.0   1.0  200.0    1   \n",
       "10262                other      2 BHK      1353.0   2.0  110.0    2   \n",
       "10263                other  1 Bedroom       812.0   1.0   26.0    1   \n",
       "10266                other      4 BHK      3600.0   5.0  400.0    4   \n",
       "\n",
       "       price_per_sqft  \n",
       "0        15017.543860  \n",
       "1        11901.840491  \n",
       "2        12533.333333  \n",
       "3        10833.333333  \n",
       "4        11983.805668  \n",
       "...               ...  \n",
       "10258     5833.333333  \n",
       "10259    11111.111111  \n",
       "10262     8130.081301  \n",
       "10263     3201.970443  \n",
       "10266    11111.111111  \n",
       "\n",
       "[7339 rows x 7 columns]"
      ]
     },
     "execution_count": 49,
     "metadata": {},
     "output_type": "execute_result"
    }
   ],
   "source": [
    "house_data"
   ]
  },
  {
   "cell_type": "markdown",
   "metadata": {
    "id": "tlqFPkk6uWR1"
   },
   "source": [
    "We have dropped two columns that are 'size' and 'price_per_sqft'."
   ]
  },
  {
   "cell_type": "markdown",
   "metadata": {
    "id": "tD5_wy0Twsuw"
   },
   "source": [
    "**Reason for dropping 'size' Column:** we have dropped size column becuase it had values in string which are irrelevant for analysis and thus we derived a new column bhk from size which contain only integer part of the string."
   ]
  },
  {
   "cell_type": "markdown",
   "metadata": {
    "id": "FxcdBzB8xtME"
   },
   "source": [
    "**Reason for dropping 'price_per_sqft' column:** Here, price_per_sqft is a derived from 'total_sqft' the infoemation of this column is already present in other column and kit does not add unique insignts for analysis so, we dropped this column."
   ]
  },
  {
   "cell_type": "code",
   "execution_count": 50,
   "metadata": {
    "id": "uhReu4nRQc9u"
   },
   "outputs": [],
   "source": [
    "house_data.drop(columns=['size','price_per_sqft'],inplace=True)"
   ]
  },
  {
   "cell_type": "markdown",
   "metadata": {
    "id": "zd_dMzWaQ9dG"
   },
   "source": [
    "### **8) Splitting dataset into Training and testing sets**"
   ]
  },
  {
   "cell_type": "code",
   "execution_count": 51,
   "metadata": {
    "colab": {
     "base_uri": "https://localhost:8080/",
     "height": 206
    },
    "id": "2NvfoMIgQ09n",
    "outputId": "5a7f5fdc-3556-431d-a891-dc915a8d9eff"
   },
   "outputs": [
    {
     "data": {
      "text/html": [
       "<div>\n",
       "<style scoped>\n",
       "    .dataframe tbody tr th:only-of-type {\n",
       "        vertical-align: middle;\n",
       "    }\n",
       "\n",
       "    .dataframe tbody tr th {\n",
       "        vertical-align: top;\n",
       "    }\n",
       "\n",
       "    .dataframe thead th {\n",
       "        text-align: right;\n",
       "    }\n",
       "</style>\n",
       "<table border=\"1\" class=\"dataframe\">\n",
       "  <thead>\n",
       "    <tr style=\"text-align: right;\">\n",
       "      <th></th>\n",
       "      <th>location</th>\n",
       "      <th>total_sqft</th>\n",
       "      <th>bath</th>\n",
       "      <th>price</th>\n",
       "      <th>bhk</th>\n",
       "    </tr>\n",
       "  </thead>\n",
       "  <tbody>\n",
       "    <tr>\n",
       "      <th>0</th>\n",
       "      <td>1st Block Jayanagar</td>\n",
       "      <td>2850.0</td>\n",
       "      <td>4.0</td>\n",
       "      <td>428.0</td>\n",
       "      <td>4</td>\n",
       "    </tr>\n",
       "    <tr>\n",
       "      <th>1</th>\n",
       "      <td>1st Block Jayanagar</td>\n",
       "      <td>1630.0</td>\n",
       "      <td>3.0</td>\n",
       "      <td>194.0</td>\n",
       "      <td>3</td>\n",
       "    </tr>\n",
       "    <tr>\n",
       "      <th>2</th>\n",
       "      <td>1st Block Jayanagar</td>\n",
       "      <td>1875.0</td>\n",
       "      <td>2.0</td>\n",
       "      <td>235.0</td>\n",
       "      <td>3</td>\n",
       "    </tr>\n",
       "    <tr>\n",
       "      <th>3</th>\n",
       "      <td>1st Block Jayanagar</td>\n",
       "      <td>1200.0</td>\n",
       "      <td>2.0</td>\n",
       "      <td>130.0</td>\n",
       "      <td>3</td>\n",
       "    </tr>\n",
       "    <tr>\n",
       "      <th>4</th>\n",
       "      <td>1st Block Jayanagar</td>\n",
       "      <td>1235.0</td>\n",
       "      <td>2.0</td>\n",
       "      <td>148.0</td>\n",
       "      <td>2</td>\n",
       "    </tr>\n",
       "  </tbody>\n",
       "</table>\n",
       "</div>"
      ],
      "text/plain": [
       "              location  total_sqft  bath  price  bhk\n",
       "0  1st Block Jayanagar      2850.0   4.0  428.0    4\n",
       "1  1st Block Jayanagar      1630.0   3.0  194.0    3\n",
       "2  1st Block Jayanagar      1875.0   2.0  235.0    3\n",
       "3  1st Block Jayanagar      1200.0   2.0  130.0    3\n",
       "4  1st Block Jayanagar      1235.0   2.0  148.0    2"
      ]
     },
     "execution_count": 51,
     "metadata": {},
     "output_type": "execute_result"
    }
   ],
   "source": [
    "house_data.head()"
   ]
  },
  {
   "cell_type": "code",
   "execution_count": 52,
   "metadata": {
    "id": "6v23sJv8RHkq"
   },
   "outputs": [],
   "source": [
    "house_data.to_csv(\"cleanded_data.csv\")"
   ]
  },
  {
   "cell_type": "code",
   "execution_count": 53,
   "metadata": {
    "id": "NZt0nXGNRPti"
   },
   "outputs": [],
   "source": [
    "X=house_data.drop(columns=['price'])\n",
    "y=house_data['price']"
   ]
  },
  {
   "cell_type": "code",
   "execution_count": 54,
   "metadata": {
    "id": "V-10e-EbRXvp"
   },
   "outputs": [],
   "source": [
    "from sklearn.model_selection import train_test_split\n",
    "from sklearn.linear_model import LinearRegression,Lasso,Ridge\n",
    "from sklearn.preprocessing import OneHotEncoder, StandardScaler\n",
    "from sklearn.compose import make_column_transformer\n",
    "from sklearn.pipeline import make_pipeline\n",
    "from sklearn.metrics import r2_score"
   ]
  },
  {
   "cell_type": "code",
   "execution_count": 55,
   "metadata": {
    "id": "k8ltqQPKdtvI"
   },
   "outputs": [],
   "source": [
    "X_train,X_test,y_train,y_test = train_test_split(X,y, test_size=0.2, random_state=0)"
   ]
  },
  {
   "cell_type": "code",
   "execution_count": 56,
   "metadata": {
    "colab": {
     "base_uri": "https://localhost:8080/",
     "height": 423
    },
    "id": "1YN6RRy2fhqF",
    "outputId": "48fb2cf6-a444-4ae0-cff8-6cf8e12a6174"
   },
   "outputs": [
    {
     "data": {
      "text/html": [
       "<div>\n",
       "<style scoped>\n",
       "    .dataframe tbody tr th:only-of-type {\n",
       "        vertical-align: middle;\n",
       "    }\n",
       "\n",
       "    .dataframe tbody tr th {\n",
       "        vertical-align: top;\n",
       "    }\n",
       "\n",
       "    .dataframe thead th {\n",
       "        text-align: right;\n",
       "    }\n",
       "</style>\n",
       "<table border=\"1\" class=\"dataframe\">\n",
       "  <thead>\n",
       "    <tr style=\"text-align: right;\">\n",
       "      <th></th>\n",
       "      <th>location</th>\n",
       "      <th>total_sqft</th>\n",
       "      <th>bath</th>\n",
       "      <th>bhk</th>\n",
       "    </tr>\n",
       "  </thead>\n",
       "  <tbody>\n",
       "    <tr>\n",
       "      <th>8532</th>\n",
       "      <td>other</td>\n",
       "      <td>1150.0</td>\n",
       "      <td>2.0</td>\n",
       "      <td>3</td>\n",
       "    </tr>\n",
       "    <tr>\n",
       "      <th>5325</th>\n",
       "      <td>Old Airport Road</td>\n",
       "      <td>2690.0</td>\n",
       "      <td>4.0</td>\n",
       "      <td>4</td>\n",
       "    </tr>\n",
       "    <tr>\n",
       "      <th>1895</th>\n",
       "      <td>EPIP Zone</td>\n",
       "      <td>2710.0</td>\n",
       "      <td>3.0</td>\n",
       "      <td>3</td>\n",
       "    </tr>\n",
       "    <tr>\n",
       "      <th>6529</th>\n",
       "      <td>Sultan Palaya</td>\n",
       "      <td>5000.0</td>\n",
       "      <td>5.0</td>\n",
       "      <td>4</td>\n",
       "    </tr>\n",
       "    <tr>\n",
       "      <th>9004</th>\n",
       "      <td>other</td>\n",
       "      <td>2100.0</td>\n",
       "      <td>4.0</td>\n",
       "      <td>4</td>\n",
       "    </tr>\n",
       "    <tr>\n",
       "      <th>...</th>\n",
       "      <td>...</td>\n",
       "      <td>...</td>\n",
       "      <td>...</td>\n",
       "      <td>...</td>\n",
       "    </tr>\n",
       "    <tr>\n",
       "      <th>6036</th>\n",
       "      <td>Sarjapur</td>\n",
       "      <td>650.0</td>\n",
       "      <td>1.0</td>\n",
       "      <td>1</td>\n",
       "    </tr>\n",
       "    <tr>\n",
       "      <th>3958</th>\n",
       "      <td>Kalyan nagar</td>\n",
       "      <td>1198.0</td>\n",
       "      <td>2.0</td>\n",
       "      <td>2</td>\n",
       "    </tr>\n",
       "    <tr>\n",
       "      <th>1996</th>\n",
       "      <td>Electronic City</td>\n",
       "      <td>435.0</td>\n",
       "      <td>1.0</td>\n",
       "      <td>1</td>\n",
       "    </tr>\n",
       "    <tr>\n",
       "      <th>3164</th>\n",
       "      <td>Hoodi</td>\n",
       "      <td>1639.0</td>\n",
       "      <td>3.0</td>\n",
       "      <td>3</td>\n",
       "    </tr>\n",
       "    <tr>\n",
       "      <th>3314</th>\n",
       "      <td>Hormavu</td>\n",
       "      <td>1075.0</td>\n",
       "      <td>2.0</td>\n",
       "      <td>2</td>\n",
       "    </tr>\n",
       "  </tbody>\n",
       "</table>\n",
       "<p>5871 rows × 4 columns</p>\n",
       "</div>"
      ],
      "text/plain": [
       "              location  total_sqft  bath  bhk\n",
       "8532             other      1150.0   2.0    3\n",
       "5325  Old Airport Road      2690.0   4.0    4\n",
       "1895         EPIP Zone      2710.0   3.0    3\n",
       "6529     Sultan Palaya      5000.0   5.0    4\n",
       "9004             other      2100.0   4.0    4\n",
       "...                ...         ...   ...  ...\n",
       "6036          Sarjapur       650.0   1.0    1\n",
       "3958      Kalyan nagar      1198.0   2.0    2\n",
       "1996   Electronic City       435.0   1.0    1\n",
       "3164             Hoodi      1639.0   3.0    3\n",
       "3314           Hormavu      1075.0   2.0    2\n",
       "\n",
       "[5871 rows x 4 columns]"
      ]
     },
     "execution_count": 56,
     "metadata": {},
     "output_type": "execute_result"
    }
   ],
   "source": [
    "X_train"
   ]
  },
  {
   "cell_type": "code",
   "execution_count": 57,
   "metadata": {
    "colab": {
     "base_uri": "https://localhost:8080/",
     "height": 423
    },
    "id": "4VY_wKzTAyZz",
    "outputId": "a6a70c59-fd00-45f2-eb7a-c42efbf4d810"
   },
   "outputs": [
    {
     "data": {
      "text/html": [
       "<div>\n",
       "<style scoped>\n",
       "    .dataframe tbody tr th:only-of-type {\n",
       "        vertical-align: middle;\n",
       "    }\n",
       "\n",
       "    .dataframe tbody tr th {\n",
       "        vertical-align: top;\n",
       "    }\n",
       "\n",
       "    .dataframe thead th {\n",
       "        text-align: right;\n",
       "    }\n",
       "</style>\n",
       "<table border=\"1\" class=\"dataframe\">\n",
       "  <thead>\n",
       "    <tr style=\"text-align: right;\">\n",
       "      <th></th>\n",
       "      <th>location</th>\n",
       "      <th>total_sqft</th>\n",
       "      <th>bath</th>\n",
       "      <th>bhk</th>\n",
       "    </tr>\n",
       "  </thead>\n",
       "  <tbody>\n",
       "    <tr>\n",
       "      <th>6330</th>\n",
       "      <td>Sarjapur  Road</td>\n",
       "      <td>1216.0</td>\n",
       "      <td>2.0</td>\n",
       "      <td>2</td>\n",
       "    </tr>\n",
       "    <tr>\n",
       "      <th>5876</th>\n",
       "      <td>Ramagondanahalli</td>\n",
       "      <td>1500.0</td>\n",
       "      <td>3.0</td>\n",
       "      <td>3</td>\n",
       "    </tr>\n",
       "    <tr>\n",
       "      <th>1040</th>\n",
       "      <td>Begur Road</td>\n",
       "      <td>1600.0</td>\n",
       "      <td>3.0</td>\n",
       "      <td>3</td>\n",
       "    </tr>\n",
       "    <tr>\n",
       "      <th>5969</th>\n",
       "      <td>Sahakara Nagar</td>\n",
       "      <td>1200.0</td>\n",
       "      <td>2.0</td>\n",
       "      <td>2</td>\n",
       "    </tr>\n",
       "    <tr>\n",
       "      <th>671</th>\n",
       "      <td>Balagere</td>\n",
       "      <td>1012.0</td>\n",
       "      <td>2.0</td>\n",
       "      <td>2</td>\n",
       "    </tr>\n",
       "    <tr>\n",
       "      <th>...</th>\n",
       "      <td>...</td>\n",
       "      <td>...</td>\n",
       "      <td>...</td>\n",
       "      <td>...</td>\n",
       "    </tr>\n",
       "    <tr>\n",
       "      <th>1191</th>\n",
       "      <td>Bharathi Nagar</td>\n",
       "      <td>1432.0</td>\n",
       "      <td>2.0</td>\n",
       "      <td>2</td>\n",
       "    </tr>\n",
       "    <tr>\n",
       "      <th>725</th>\n",
       "      <td>Banashankari</td>\n",
       "      <td>600.0</td>\n",
       "      <td>1.0</td>\n",
       "      <td>2</td>\n",
       "    </tr>\n",
       "    <tr>\n",
       "      <th>2457</th>\n",
       "      <td>Gottigere</td>\n",
       "      <td>3000.0</td>\n",
       "      <td>3.0</td>\n",
       "      <td>4</td>\n",
       "    </tr>\n",
       "    <tr>\n",
       "      <th>2709</th>\n",
       "      <td>Haralur Road</td>\n",
       "      <td>1027.0</td>\n",
       "      <td>1.0</td>\n",
       "      <td>2</td>\n",
       "    </tr>\n",
       "    <tr>\n",
       "      <th>4105</th>\n",
       "      <td>Kanakpura Road</td>\n",
       "      <td>1051.0</td>\n",
       "      <td>2.0</td>\n",
       "      <td>2</td>\n",
       "    </tr>\n",
       "  </tbody>\n",
       "</table>\n",
       "<p>1468 rows × 4 columns</p>\n",
       "</div>"
      ],
      "text/plain": [
       "              location  total_sqft  bath  bhk\n",
       "6330    Sarjapur  Road      1216.0   2.0    2\n",
       "5876  Ramagondanahalli      1500.0   3.0    3\n",
       "1040        Begur Road      1600.0   3.0    3\n",
       "5969    Sahakara Nagar      1200.0   2.0    2\n",
       "671           Balagere      1012.0   2.0    2\n",
       "...                ...         ...   ...  ...\n",
       "1191    Bharathi Nagar      1432.0   2.0    2\n",
       "725       Banashankari       600.0   1.0    2\n",
       "2457         Gottigere      3000.0   3.0    4\n",
       "2709      Haralur Road      1027.0   1.0    2\n",
       "4105    Kanakpura Road      1051.0   2.0    2\n",
       "\n",
       "[1468 rows x 4 columns]"
      ]
     },
     "execution_count": 57,
     "metadata": {},
     "output_type": "execute_result"
    }
   ],
   "source": [
    "X_test"
   ]
  },
  {
   "cell_type": "code",
   "execution_count": 58,
   "metadata": {
    "colab": {
     "base_uri": "https://localhost:8080/",
     "height": 0
    },
    "id": "jD-IEyGgeHZQ",
    "outputId": "092a13f3-465f-4126-afb8-8b6b4563e81e"
   },
   "outputs": [
    {
     "name": "stdout",
     "output_type": "stream",
     "text": [
      "(5871, 4)\n",
      "(1468, 4)\n"
     ]
    }
   ],
   "source": [
    "print(X_train.shape)\n",
    "print(X_test.shape)"
   ]
  },
  {
   "cell_type": "markdown",
   "metadata": {},
   "source": [
    "### Applying Linear Regression"
   ]
  },
  {
   "cell_type": "code",
   "execution_count": 63,
   "metadata": {},
   "outputs": [],
   "source": [
    "column_trans = make_column_transformer((OneHotEncoder(sparse=False), ['location']),remainder='passthrough')"
   ]
  },
  {
   "cell_type": "code",
   "execution_count": 75,
   "metadata": {},
   "outputs": [],
   "source": [
    "scaler = StandardScaler()"
   ]
  },
  {
   "cell_type": "code",
   "execution_count": 90,
   "metadata": {},
   "outputs": [],
   "source": [
    "from sklearn.linear_model import LinearRegression\n",
    "\n",
    "lr = LinearRegression()"
   ]
  },
  {
   "cell_type": "code",
   "execution_count": 69,
   "metadata": {},
   "outputs": [],
   "source": [
    "pipe = make_pipeline(column_trans,scaler, lr)"
   ]
  },
  {
   "cell_type": "code",
   "execution_count": 70,
   "metadata": {},
   "outputs": [
    {
     "name": "stderr",
     "output_type": "stream",
     "text": [
      "C:\\ProgramData\\anaconda3\\Lib\\site-packages\\sklearn\\preprocessing\\_encoders.py:972: FutureWarning: `sparse` was renamed to `sparse_output` in version 1.2 and will be removed in 1.4. `sparse_output` is ignored unless you leave `sparse` to its default value.\n",
      "  warnings.warn(\n"
     ]
    },
    {
     "data": {
      "text/html": [
       "<style>#sk-container-id-1 {color: black;}#sk-container-id-1 pre{padding: 0;}#sk-container-id-1 div.sk-toggleable {background-color: white;}#sk-container-id-1 label.sk-toggleable__label {cursor: pointer;display: block;width: 100%;margin-bottom: 0;padding: 0.3em;box-sizing: border-box;text-align: center;}#sk-container-id-1 label.sk-toggleable__label-arrow:before {content: \"▸\";float: left;margin-right: 0.25em;color: #696969;}#sk-container-id-1 label.sk-toggleable__label-arrow:hover:before {color: black;}#sk-container-id-1 div.sk-estimator:hover label.sk-toggleable__label-arrow:before {color: black;}#sk-container-id-1 div.sk-toggleable__content {max-height: 0;max-width: 0;overflow: hidden;text-align: left;background-color: #f0f8ff;}#sk-container-id-1 div.sk-toggleable__content pre {margin: 0.2em;color: black;border-radius: 0.25em;background-color: #f0f8ff;}#sk-container-id-1 input.sk-toggleable__control:checked~div.sk-toggleable__content {max-height: 200px;max-width: 100%;overflow: auto;}#sk-container-id-1 input.sk-toggleable__control:checked~label.sk-toggleable__label-arrow:before {content: \"▾\";}#sk-container-id-1 div.sk-estimator input.sk-toggleable__control:checked~label.sk-toggleable__label {background-color: #d4ebff;}#sk-container-id-1 div.sk-label input.sk-toggleable__control:checked~label.sk-toggleable__label {background-color: #d4ebff;}#sk-container-id-1 input.sk-hidden--visually {border: 0;clip: rect(1px 1px 1px 1px);clip: rect(1px, 1px, 1px, 1px);height: 1px;margin: -1px;overflow: hidden;padding: 0;position: absolute;width: 1px;}#sk-container-id-1 div.sk-estimator {font-family: monospace;background-color: #f0f8ff;border: 1px dotted black;border-radius: 0.25em;box-sizing: border-box;margin-bottom: 0.5em;}#sk-container-id-1 div.sk-estimator:hover {background-color: #d4ebff;}#sk-container-id-1 div.sk-parallel-item::after {content: \"\";width: 100%;border-bottom: 1px solid gray;flex-grow: 1;}#sk-container-id-1 div.sk-label:hover label.sk-toggleable__label {background-color: #d4ebff;}#sk-container-id-1 div.sk-serial::before {content: \"\";position: absolute;border-left: 1px solid gray;box-sizing: border-box;top: 0;bottom: 0;left: 50%;z-index: 0;}#sk-container-id-1 div.sk-serial {display: flex;flex-direction: column;align-items: center;background-color: white;padding-right: 0.2em;padding-left: 0.2em;position: relative;}#sk-container-id-1 div.sk-item {position: relative;z-index: 1;}#sk-container-id-1 div.sk-parallel {display: flex;align-items: stretch;justify-content: center;background-color: white;position: relative;}#sk-container-id-1 div.sk-item::before, #sk-container-id-1 div.sk-parallel-item::before {content: \"\";position: absolute;border-left: 1px solid gray;box-sizing: border-box;top: 0;bottom: 0;left: 50%;z-index: -1;}#sk-container-id-1 div.sk-parallel-item {display: flex;flex-direction: column;z-index: 1;position: relative;background-color: white;}#sk-container-id-1 div.sk-parallel-item:first-child::after {align-self: flex-end;width: 50%;}#sk-container-id-1 div.sk-parallel-item:last-child::after {align-self: flex-start;width: 50%;}#sk-container-id-1 div.sk-parallel-item:only-child::after {width: 0;}#sk-container-id-1 div.sk-dashed-wrapped {border: 1px dashed gray;margin: 0 0.4em 0.5em 0.4em;box-sizing: border-box;padding-bottom: 0.4em;background-color: white;}#sk-container-id-1 div.sk-label label {font-family: monospace;font-weight: bold;display: inline-block;line-height: 1.2em;}#sk-container-id-1 div.sk-label-container {text-align: center;}#sk-container-id-1 div.sk-container {/* jupyter's `normalize.less` sets `[hidden] { display: none; }` but bootstrap.min.css set `[hidden] { display: none !important; }` so we also need the `!important` here to be able to override the default hidden behavior on the sphinx rendered scikit-learn.org. See: https://github.com/scikit-learn/scikit-learn/issues/21755 */display: inline-block !important;position: relative;}#sk-container-id-1 div.sk-text-repr-fallback {display: none;}</style><div id=\"sk-container-id-1\" class=\"sk-top-container\"><div class=\"sk-text-repr-fallback\"><pre>Pipeline(steps=[(&#x27;columntransformer&#x27;,\n",
       "                 ColumnTransformer(remainder=&#x27;passthrough&#x27;,\n",
       "                                   transformers=[(&#x27;onehotencoder&#x27;,\n",
       "                                                  OneHotEncoder(sparse=False),\n",
       "                                                  [&#x27;location&#x27;])])),\n",
       "                (&#x27;standardscaler&#x27;, StandardScaler()),\n",
       "                (&#x27;linearregression&#x27;, LinearRegression())])</pre><b>In a Jupyter environment, please rerun this cell to show the HTML representation or trust the notebook. <br />On GitHub, the HTML representation is unable to render, please try loading this page with nbviewer.org.</b></div><div class=\"sk-container\" hidden><div class=\"sk-item sk-dashed-wrapped\"><div class=\"sk-label-container\"><div class=\"sk-label sk-toggleable\"><input class=\"sk-toggleable__control sk-hidden--visually\" id=\"sk-estimator-id-1\" type=\"checkbox\" ><label for=\"sk-estimator-id-1\" class=\"sk-toggleable__label sk-toggleable__label-arrow\">Pipeline</label><div class=\"sk-toggleable__content\"><pre>Pipeline(steps=[(&#x27;columntransformer&#x27;,\n",
       "                 ColumnTransformer(remainder=&#x27;passthrough&#x27;,\n",
       "                                   transformers=[(&#x27;onehotencoder&#x27;,\n",
       "                                                  OneHotEncoder(sparse=False),\n",
       "                                                  [&#x27;location&#x27;])])),\n",
       "                (&#x27;standardscaler&#x27;, StandardScaler()),\n",
       "                (&#x27;linearregression&#x27;, LinearRegression())])</pre></div></div></div><div class=\"sk-serial\"><div class=\"sk-item sk-dashed-wrapped\"><div class=\"sk-label-container\"><div class=\"sk-label sk-toggleable\"><input class=\"sk-toggleable__control sk-hidden--visually\" id=\"sk-estimator-id-2\" type=\"checkbox\" ><label for=\"sk-estimator-id-2\" class=\"sk-toggleable__label sk-toggleable__label-arrow\">columntransformer: ColumnTransformer</label><div class=\"sk-toggleable__content\"><pre>ColumnTransformer(remainder=&#x27;passthrough&#x27;,\n",
       "                  transformers=[(&#x27;onehotencoder&#x27;, OneHotEncoder(sparse=False),\n",
       "                                 [&#x27;location&#x27;])])</pre></div></div></div><div class=\"sk-parallel\"><div class=\"sk-parallel-item\"><div class=\"sk-item\"><div class=\"sk-label-container\"><div class=\"sk-label sk-toggleable\"><input class=\"sk-toggleable__control sk-hidden--visually\" id=\"sk-estimator-id-3\" type=\"checkbox\" ><label for=\"sk-estimator-id-3\" class=\"sk-toggleable__label sk-toggleable__label-arrow\">onehotencoder</label><div class=\"sk-toggleable__content\"><pre>[&#x27;location&#x27;]</pre></div></div></div><div class=\"sk-serial\"><div class=\"sk-item\"><div class=\"sk-estimator sk-toggleable\"><input class=\"sk-toggleable__control sk-hidden--visually\" id=\"sk-estimator-id-4\" type=\"checkbox\" ><label for=\"sk-estimator-id-4\" class=\"sk-toggleable__label sk-toggleable__label-arrow\">OneHotEncoder</label><div class=\"sk-toggleable__content\"><pre>OneHotEncoder(sparse=False)</pre></div></div></div></div></div></div><div class=\"sk-parallel-item\"><div class=\"sk-item\"><div class=\"sk-label-container\"><div class=\"sk-label sk-toggleable\"><input class=\"sk-toggleable__control sk-hidden--visually\" id=\"sk-estimator-id-5\" type=\"checkbox\" ><label for=\"sk-estimator-id-5\" class=\"sk-toggleable__label sk-toggleable__label-arrow\">remainder</label><div class=\"sk-toggleable__content\"><pre>[&#x27;total_sqft&#x27;, &#x27;bath&#x27;, &#x27;bhk&#x27;]</pre></div></div></div><div class=\"sk-serial\"><div class=\"sk-item\"><div class=\"sk-estimator sk-toggleable\"><input class=\"sk-toggleable__control sk-hidden--visually\" id=\"sk-estimator-id-6\" type=\"checkbox\" ><label for=\"sk-estimator-id-6\" class=\"sk-toggleable__label sk-toggleable__label-arrow\">passthrough</label><div class=\"sk-toggleable__content\"><pre>passthrough</pre></div></div></div></div></div></div></div></div><div class=\"sk-item\"><div class=\"sk-estimator sk-toggleable\"><input class=\"sk-toggleable__control sk-hidden--visually\" id=\"sk-estimator-id-7\" type=\"checkbox\" ><label for=\"sk-estimator-id-7\" class=\"sk-toggleable__label sk-toggleable__label-arrow\">StandardScaler</label><div class=\"sk-toggleable__content\"><pre>StandardScaler()</pre></div></div></div><div class=\"sk-item\"><div class=\"sk-estimator sk-toggleable\"><input class=\"sk-toggleable__control sk-hidden--visually\" id=\"sk-estimator-id-8\" type=\"checkbox\" ><label for=\"sk-estimator-id-8\" class=\"sk-toggleable__label sk-toggleable__label-arrow\">LinearRegression</label><div class=\"sk-toggleable__content\"><pre>LinearRegression()</pre></div></div></div></div></div></div></div>"
      ],
      "text/plain": [
       "Pipeline(steps=[('columntransformer',\n",
       "                 ColumnTransformer(remainder='passthrough',\n",
       "                                   transformers=[('onehotencoder',\n",
       "                                                  OneHotEncoder(sparse=False),\n",
       "                                                  ['location'])])),\n",
       "                ('standardscaler', StandardScaler()),\n",
       "                ('linearregression', LinearRegression())])"
      ]
     },
     "execution_count": 70,
     "metadata": {},
     "output_type": "execute_result"
    }
   ],
   "source": [
    "pipe.fit(X_train,y_train)"
   ]
  },
  {
   "cell_type": "code",
   "execution_count": 76,
   "metadata": {},
   "outputs": [],
   "source": [
    "y_pred_lr = pipe.predict(X_test)"
   ]
  },
  {
   "cell_type": "code",
   "execution_count": 77,
   "metadata": {},
   "outputs": [
    {
     "data": {
      "text/plain": [
       "0.7971571080931397"
      ]
     },
     "execution_count": 77,
     "metadata": {},
     "output_type": "execute_result"
    }
   ],
   "source": [
    "r2_score(y_test, y_pred_lr)"
   ]
  },
  {
   "cell_type": "markdown",
   "metadata": {},
   "source": [
    "### Applying Lasso"
   ]
  },
  {
   "cell_type": "code",
   "execution_count": 78,
   "metadata": {},
   "outputs": [],
   "source": [
    "lasso = Lasso()"
   ]
  },
  {
   "cell_type": "code",
   "execution_count": 80,
   "metadata": {},
   "outputs": [],
   "source": [
    "pipe = make_pipeline(column_trans,scaler, lasso)"
   ]
  },
  {
   "cell_type": "code",
   "execution_count": 81,
   "metadata": {},
   "outputs": [
    {
     "name": "stderr",
     "output_type": "stream",
     "text": [
      "C:\\ProgramData\\anaconda3\\Lib\\site-packages\\sklearn\\preprocessing\\_encoders.py:972: FutureWarning: `sparse` was renamed to `sparse_output` in version 1.2 and will be removed in 1.4. `sparse_output` is ignored unless you leave `sparse` to its default value.\n",
      "  warnings.warn(\n"
     ]
    },
    {
     "data": {
      "text/html": [
       "<style>#sk-container-id-2 {color: black;}#sk-container-id-2 pre{padding: 0;}#sk-container-id-2 div.sk-toggleable {background-color: white;}#sk-container-id-2 label.sk-toggleable__label {cursor: pointer;display: block;width: 100%;margin-bottom: 0;padding: 0.3em;box-sizing: border-box;text-align: center;}#sk-container-id-2 label.sk-toggleable__label-arrow:before {content: \"▸\";float: left;margin-right: 0.25em;color: #696969;}#sk-container-id-2 label.sk-toggleable__label-arrow:hover:before {color: black;}#sk-container-id-2 div.sk-estimator:hover label.sk-toggleable__label-arrow:before {color: black;}#sk-container-id-2 div.sk-toggleable__content {max-height: 0;max-width: 0;overflow: hidden;text-align: left;background-color: #f0f8ff;}#sk-container-id-2 div.sk-toggleable__content pre {margin: 0.2em;color: black;border-radius: 0.25em;background-color: #f0f8ff;}#sk-container-id-2 input.sk-toggleable__control:checked~div.sk-toggleable__content {max-height: 200px;max-width: 100%;overflow: auto;}#sk-container-id-2 input.sk-toggleable__control:checked~label.sk-toggleable__label-arrow:before {content: \"▾\";}#sk-container-id-2 div.sk-estimator input.sk-toggleable__control:checked~label.sk-toggleable__label {background-color: #d4ebff;}#sk-container-id-2 div.sk-label input.sk-toggleable__control:checked~label.sk-toggleable__label {background-color: #d4ebff;}#sk-container-id-2 input.sk-hidden--visually {border: 0;clip: rect(1px 1px 1px 1px);clip: rect(1px, 1px, 1px, 1px);height: 1px;margin: -1px;overflow: hidden;padding: 0;position: absolute;width: 1px;}#sk-container-id-2 div.sk-estimator {font-family: monospace;background-color: #f0f8ff;border: 1px dotted black;border-radius: 0.25em;box-sizing: border-box;margin-bottom: 0.5em;}#sk-container-id-2 div.sk-estimator:hover {background-color: #d4ebff;}#sk-container-id-2 div.sk-parallel-item::after {content: \"\";width: 100%;border-bottom: 1px solid gray;flex-grow: 1;}#sk-container-id-2 div.sk-label:hover label.sk-toggleable__label {background-color: #d4ebff;}#sk-container-id-2 div.sk-serial::before {content: \"\";position: absolute;border-left: 1px solid gray;box-sizing: border-box;top: 0;bottom: 0;left: 50%;z-index: 0;}#sk-container-id-2 div.sk-serial {display: flex;flex-direction: column;align-items: center;background-color: white;padding-right: 0.2em;padding-left: 0.2em;position: relative;}#sk-container-id-2 div.sk-item {position: relative;z-index: 1;}#sk-container-id-2 div.sk-parallel {display: flex;align-items: stretch;justify-content: center;background-color: white;position: relative;}#sk-container-id-2 div.sk-item::before, #sk-container-id-2 div.sk-parallel-item::before {content: \"\";position: absolute;border-left: 1px solid gray;box-sizing: border-box;top: 0;bottom: 0;left: 50%;z-index: -1;}#sk-container-id-2 div.sk-parallel-item {display: flex;flex-direction: column;z-index: 1;position: relative;background-color: white;}#sk-container-id-2 div.sk-parallel-item:first-child::after {align-self: flex-end;width: 50%;}#sk-container-id-2 div.sk-parallel-item:last-child::after {align-self: flex-start;width: 50%;}#sk-container-id-2 div.sk-parallel-item:only-child::after {width: 0;}#sk-container-id-2 div.sk-dashed-wrapped {border: 1px dashed gray;margin: 0 0.4em 0.5em 0.4em;box-sizing: border-box;padding-bottom: 0.4em;background-color: white;}#sk-container-id-2 div.sk-label label {font-family: monospace;font-weight: bold;display: inline-block;line-height: 1.2em;}#sk-container-id-2 div.sk-label-container {text-align: center;}#sk-container-id-2 div.sk-container {/* jupyter's `normalize.less` sets `[hidden] { display: none; }` but bootstrap.min.css set `[hidden] { display: none !important; }` so we also need the `!important` here to be able to override the default hidden behavior on the sphinx rendered scikit-learn.org. See: https://github.com/scikit-learn/scikit-learn/issues/21755 */display: inline-block !important;position: relative;}#sk-container-id-2 div.sk-text-repr-fallback {display: none;}</style><div id=\"sk-container-id-2\" class=\"sk-top-container\"><div class=\"sk-text-repr-fallback\"><pre>Pipeline(steps=[(&#x27;columntransformer&#x27;,\n",
       "                 ColumnTransformer(remainder=&#x27;passthrough&#x27;,\n",
       "                                   transformers=[(&#x27;onehotencoder&#x27;,\n",
       "                                                  OneHotEncoder(sparse=False),\n",
       "                                                  [&#x27;location&#x27;])])),\n",
       "                (&#x27;standardscaler&#x27;, StandardScaler()), (&#x27;lasso&#x27;, Lasso())])</pre><b>In a Jupyter environment, please rerun this cell to show the HTML representation or trust the notebook. <br />On GitHub, the HTML representation is unable to render, please try loading this page with nbviewer.org.</b></div><div class=\"sk-container\" hidden><div class=\"sk-item sk-dashed-wrapped\"><div class=\"sk-label-container\"><div class=\"sk-label sk-toggleable\"><input class=\"sk-toggleable__control sk-hidden--visually\" id=\"sk-estimator-id-9\" type=\"checkbox\" ><label for=\"sk-estimator-id-9\" class=\"sk-toggleable__label sk-toggleable__label-arrow\">Pipeline</label><div class=\"sk-toggleable__content\"><pre>Pipeline(steps=[(&#x27;columntransformer&#x27;,\n",
       "                 ColumnTransformer(remainder=&#x27;passthrough&#x27;,\n",
       "                                   transformers=[(&#x27;onehotencoder&#x27;,\n",
       "                                                  OneHotEncoder(sparse=False),\n",
       "                                                  [&#x27;location&#x27;])])),\n",
       "                (&#x27;standardscaler&#x27;, StandardScaler()), (&#x27;lasso&#x27;, Lasso())])</pre></div></div></div><div class=\"sk-serial\"><div class=\"sk-item sk-dashed-wrapped\"><div class=\"sk-label-container\"><div class=\"sk-label sk-toggleable\"><input class=\"sk-toggleable__control sk-hidden--visually\" id=\"sk-estimator-id-10\" type=\"checkbox\" ><label for=\"sk-estimator-id-10\" class=\"sk-toggleable__label sk-toggleable__label-arrow\">columntransformer: ColumnTransformer</label><div class=\"sk-toggleable__content\"><pre>ColumnTransformer(remainder=&#x27;passthrough&#x27;,\n",
       "                  transformers=[(&#x27;onehotencoder&#x27;, OneHotEncoder(sparse=False),\n",
       "                                 [&#x27;location&#x27;])])</pre></div></div></div><div class=\"sk-parallel\"><div class=\"sk-parallel-item\"><div class=\"sk-item\"><div class=\"sk-label-container\"><div class=\"sk-label sk-toggleable\"><input class=\"sk-toggleable__control sk-hidden--visually\" id=\"sk-estimator-id-11\" type=\"checkbox\" ><label for=\"sk-estimator-id-11\" class=\"sk-toggleable__label sk-toggleable__label-arrow\">onehotencoder</label><div class=\"sk-toggleable__content\"><pre>[&#x27;location&#x27;]</pre></div></div></div><div class=\"sk-serial\"><div class=\"sk-item\"><div class=\"sk-estimator sk-toggleable\"><input class=\"sk-toggleable__control sk-hidden--visually\" id=\"sk-estimator-id-12\" type=\"checkbox\" ><label for=\"sk-estimator-id-12\" class=\"sk-toggleable__label sk-toggleable__label-arrow\">OneHotEncoder</label><div class=\"sk-toggleable__content\"><pre>OneHotEncoder(sparse=False)</pre></div></div></div></div></div></div><div class=\"sk-parallel-item\"><div class=\"sk-item\"><div class=\"sk-label-container\"><div class=\"sk-label sk-toggleable\"><input class=\"sk-toggleable__control sk-hidden--visually\" id=\"sk-estimator-id-13\" type=\"checkbox\" ><label for=\"sk-estimator-id-13\" class=\"sk-toggleable__label sk-toggleable__label-arrow\">remainder</label><div class=\"sk-toggleable__content\"><pre>[&#x27;total_sqft&#x27;, &#x27;bath&#x27;, &#x27;bhk&#x27;]</pre></div></div></div><div class=\"sk-serial\"><div class=\"sk-item\"><div class=\"sk-estimator sk-toggleable\"><input class=\"sk-toggleable__control sk-hidden--visually\" id=\"sk-estimator-id-14\" type=\"checkbox\" ><label for=\"sk-estimator-id-14\" class=\"sk-toggleable__label sk-toggleable__label-arrow\">passthrough</label><div class=\"sk-toggleable__content\"><pre>passthrough</pre></div></div></div></div></div></div></div></div><div class=\"sk-item\"><div class=\"sk-estimator sk-toggleable\"><input class=\"sk-toggleable__control sk-hidden--visually\" id=\"sk-estimator-id-15\" type=\"checkbox\" ><label for=\"sk-estimator-id-15\" class=\"sk-toggleable__label sk-toggleable__label-arrow\">StandardScaler</label><div class=\"sk-toggleable__content\"><pre>StandardScaler()</pre></div></div></div><div class=\"sk-item\"><div class=\"sk-estimator sk-toggleable\"><input class=\"sk-toggleable__control sk-hidden--visually\" id=\"sk-estimator-id-16\" type=\"checkbox\" ><label for=\"sk-estimator-id-16\" class=\"sk-toggleable__label sk-toggleable__label-arrow\">Lasso</label><div class=\"sk-toggleable__content\"><pre>Lasso()</pre></div></div></div></div></div></div></div>"
      ],
      "text/plain": [
       "Pipeline(steps=[('columntransformer',\n",
       "                 ColumnTransformer(remainder='passthrough',\n",
       "                                   transformers=[('onehotencoder',\n",
       "                                                  OneHotEncoder(sparse=False),\n",
       "                                                  ['location'])])),\n",
       "                ('standardscaler', StandardScaler()), ('lasso', Lasso())])"
      ]
     },
     "execution_count": 81,
     "metadata": {},
     "output_type": "execute_result"
    }
   ],
   "source": [
    "pipe.fit(X_train,y_train)"
   ]
  },
  {
   "cell_type": "code",
   "execution_count": 82,
   "metadata": {},
   "outputs": [
    {
     "data": {
      "text/plain": [
       "0.7851332530941815"
      ]
     },
     "execution_count": 82,
     "metadata": {},
     "output_type": "execute_result"
    }
   ],
   "source": [
    "y_pred_lasso = pipe.predict(X_test)\n",
    "r2_score(y_test, y_pred_lasso)"
   ]
  },
  {
   "cell_type": "markdown",
   "metadata": {},
   "source": [
    "### Applying Ridge"
   ]
  },
  {
   "cell_type": "code",
   "execution_count": 83,
   "metadata": {},
   "outputs": [],
   "source": [
    "ridge = Ridge()"
   ]
  },
  {
   "cell_type": "code",
   "execution_count": 84,
   "metadata": {},
   "outputs": [],
   "source": [
    "pipe = make_pipeline(column_trans, scaler, ridge)"
   ]
  },
  {
   "cell_type": "code",
   "execution_count": 85,
   "metadata": {},
   "outputs": [
    {
     "name": "stderr",
     "output_type": "stream",
     "text": [
      "C:\\ProgramData\\anaconda3\\Lib\\site-packages\\sklearn\\preprocessing\\_encoders.py:972: FutureWarning: `sparse` was renamed to `sparse_output` in version 1.2 and will be removed in 1.4. `sparse_output` is ignored unless you leave `sparse` to its default value.\n",
      "  warnings.warn(\n"
     ]
    },
    {
     "data": {
      "text/html": [
       "<style>#sk-container-id-3 {color: black;}#sk-container-id-3 pre{padding: 0;}#sk-container-id-3 div.sk-toggleable {background-color: white;}#sk-container-id-3 label.sk-toggleable__label {cursor: pointer;display: block;width: 100%;margin-bottom: 0;padding: 0.3em;box-sizing: border-box;text-align: center;}#sk-container-id-3 label.sk-toggleable__label-arrow:before {content: \"▸\";float: left;margin-right: 0.25em;color: #696969;}#sk-container-id-3 label.sk-toggleable__label-arrow:hover:before {color: black;}#sk-container-id-3 div.sk-estimator:hover label.sk-toggleable__label-arrow:before {color: black;}#sk-container-id-3 div.sk-toggleable__content {max-height: 0;max-width: 0;overflow: hidden;text-align: left;background-color: #f0f8ff;}#sk-container-id-3 div.sk-toggleable__content pre {margin: 0.2em;color: black;border-radius: 0.25em;background-color: #f0f8ff;}#sk-container-id-3 input.sk-toggleable__control:checked~div.sk-toggleable__content {max-height: 200px;max-width: 100%;overflow: auto;}#sk-container-id-3 input.sk-toggleable__control:checked~label.sk-toggleable__label-arrow:before {content: \"▾\";}#sk-container-id-3 div.sk-estimator input.sk-toggleable__control:checked~label.sk-toggleable__label {background-color: #d4ebff;}#sk-container-id-3 div.sk-label input.sk-toggleable__control:checked~label.sk-toggleable__label {background-color: #d4ebff;}#sk-container-id-3 input.sk-hidden--visually {border: 0;clip: rect(1px 1px 1px 1px);clip: rect(1px, 1px, 1px, 1px);height: 1px;margin: -1px;overflow: hidden;padding: 0;position: absolute;width: 1px;}#sk-container-id-3 div.sk-estimator {font-family: monospace;background-color: #f0f8ff;border: 1px dotted black;border-radius: 0.25em;box-sizing: border-box;margin-bottom: 0.5em;}#sk-container-id-3 div.sk-estimator:hover {background-color: #d4ebff;}#sk-container-id-3 div.sk-parallel-item::after {content: \"\";width: 100%;border-bottom: 1px solid gray;flex-grow: 1;}#sk-container-id-3 div.sk-label:hover label.sk-toggleable__label {background-color: #d4ebff;}#sk-container-id-3 div.sk-serial::before {content: \"\";position: absolute;border-left: 1px solid gray;box-sizing: border-box;top: 0;bottom: 0;left: 50%;z-index: 0;}#sk-container-id-3 div.sk-serial {display: flex;flex-direction: column;align-items: center;background-color: white;padding-right: 0.2em;padding-left: 0.2em;position: relative;}#sk-container-id-3 div.sk-item {position: relative;z-index: 1;}#sk-container-id-3 div.sk-parallel {display: flex;align-items: stretch;justify-content: center;background-color: white;position: relative;}#sk-container-id-3 div.sk-item::before, #sk-container-id-3 div.sk-parallel-item::before {content: \"\";position: absolute;border-left: 1px solid gray;box-sizing: border-box;top: 0;bottom: 0;left: 50%;z-index: -1;}#sk-container-id-3 div.sk-parallel-item {display: flex;flex-direction: column;z-index: 1;position: relative;background-color: white;}#sk-container-id-3 div.sk-parallel-item:first-child::after {align-self: flex-end;width: 50%;}#sk-container-id-3 div.sk-parallel-item:last-child::after {align-self: flex-start;width: 50%;}#sk-container-id-3 div.sk-parallel-item:only-child::after {width: 0;}#sk-container-id-3 div.sk-dashed-wrapped {border: 1px dashed gray;margin: 0 0.4em 0.5em 0.4em;box-sizing: border-box;padding-bottom: 0.4em;background-color: white;}#sk-container-id-3 div.sk-label label {font-family: monospace;font-weight: bold;display: inline-block;line-height: 1.2em;}#sk-container-id-3 div.sk-label-container {text-align: center;}#sk-container-id-3 div.sk-container {/* jupyter's `normalize.less` sets `[hidden] { display: none; }` but bootstrap.min.css set `[hidden] { display: none !important; }` so we also need the `!important` here to be able to override the default hidden behavior on the sphinx rendered scikit-learn.org. See: https://github.com/scikit-learn/scikit-learn/issues/21755 */display: inline-block !important;position: relative;}#sk-container-id-3 div.sk-text-repr-fallback {display: none;}</style><div id=\"sk-container-id-3\" class=\"sk-top-container\"><div class=\"sk-text-repr-fallback\"><pre>Pipeline(steps=[(&#x27;columntransformer&#x27;,\n",
       "                 ColumnTransformer(remainder=&#x27;passthrough&#x27;,\n",
       "                                   transformers=[(&#x27;onehotencoder&#x27;,\n",
       "                                                  OneHotEncoder(sparse=False),\n",
       "                                                  [&#x27;location&#x27;])])),\n",
       "                (&#x27;standardscaler&#x27;, StandardScaler()), (&#x27;ridge&#x27;, Ridge())])</pre><b>In a Jupyter environment, please rerun this cell to show the HTML representation or trust the notebook. <br />On GitHub, the HTML representation is unable to render, please try loading this page with nbviewer.org.</b></div><div class=\"sk-container\" hidden><div class=\"sk-item sk-dashed-wrapped\"><div class=\"sk-label-container\"><div class=\"sk-label sk-toggleable\"><input class=\"sk-toggleable__control sk-hidden--visually\" id=\"sk-estimator-id-17\" type=\"checkbox\" ><label for=\"sk-estimator-id-17\" class=\"sk-toggleable__label sk-toggleable__label-arrow\">Pipeline</label><div class=\"sk-toggleable__content\"><pre>Pipeline(steps=[(&#x27;columntransformer&#x27;,\n",
       "                 ColumnTransformer(remainder=&#x27;passthrough&#x27;,\n",
       "                                   transformers=[(&#x27;onehotencoder&#x27;,\n",
       "                                                  OneHotEncoder(sparse=False),\n",
       "                                                  [&#x27;location&#x27;])])),\n",
       "                (&#x27;standardscaler&#x27;, StandardScaler()), (&#x27;ridge&#x27;, Ridge())])</pre></div></div></div><div class=\"sk-serial\"><div class=\"sk-item sk-dashed-wrapped\"><div class=\"sk-label-container\"><div class=\"sk-label sk-toggleable\"><input class=\"sk-toggleable__control sk-hidden--visually\" id=\"sk-estimator-id-18\" type=\"checkbox\" ><label for=\"sk-estimator-id-18\" class=\"sk-toggleable__label sk-toggleable__label-arrow\">columntransformer: ColumnTransformer</label><div class=\"sk-toggleable__content\"><pre>ColumnTransformer(remainder=&#x27;passthrough&#x27;,\n",
       "                  transformers=[(&#x27;onehotencoder&#x27;, OneHotEncoder(sparse=False),\n",
       "                                 [&#x27;location&#x27;])])</pre></div></div></div><div class=\"sk-parallel\"><div class=\"sk-parallel-item\"><div class=\"sk-item\"><div class=\"sk-label-container\"><div class=\"sk-label sk-toggleable\"><input class=\"sk-toggleable__control sk-hidden--visually\" id=\"sk-estimator-id-19\" type=\"checkbox\" ><label for=\"sk-estimator-id-19\" class=\"sk-toggleable__label sk-toggleable__label-arrow\">onehotencoder</label><div class=\"sk-toggleable__content\"><pre>[&#x27;location&#x27;]</pre></div></div></div><div class=\"sk-serial\"><div class=\"sk-item\"><div class=\"sk-estimator sk-toggleable\"><input class=\"sk-toggleable__control sk-hidden--visually\" id=\"sk-estimator-id-20\" type=\"checkbox\" ><label for=\"sk-estimator-id-20\" class=\"sk-toggleable__label sk-toggleable__label-arrow\">OneHotEncoder</label><div class=\"sk-toggleable__content\"><pre>OneHotEncoder(sparse=False)</pre></div></div></div></div></div></div><div class=\"sk-parallel-item\"><div class=\"sk-item\"><div class=\"sk-label-container\"><div class=\"sk-label sk-toggleable\"><input class=\"sk-toggleable__control sk-hidden--visually\" id=\"sk-estimator-id-21\" type=\"checkbox\" ><label for=\"sk-estimator-id-21\" class=\"sk-toggleable__label sk-toggleable__label-arrow\">remainder</label><div class=\"sk-toggleable__content\"><pre>[&#x27;total_sqft&#x27;, &#x27;bath&#x27;, &#x27;bhk&#x27;]</pre></div></div></div><div class=\"sk-serial\"><div class=\"sk-item\"><div class=\"sk-estimator sk-toggleable\"><input class=\"sk-toggleable__control sk-hidden--visually\" id=\"sk-estimator-id-22\" type=\"checkbox\" ><label for=\"sk-estimator-id-22\" class=\"sk-toggleable__label sk-toggleable__label-arrow\">passthrough</label><div class=\"sk-toggleable__content\"><pre>passthrough</pre></div></div></div></div></div></div></div></div><div class=\"sk-item\"><div class=\"sk-estimator sk-toggleable\"><input class=\"sk-toggleable__control sk-hidden--visually\" id=\"sk-estimator-id-23\" type=\"checkbox\" ><label for=\"sk-estimator-id-23\" class=\"sk-toggleable__label sk-toggleable__label-arrow\">StandardScaler</label><div class=\"sk-toggleable__content\"><pre>StandardScaler()</pre></div></div></div><div class=\"sk-item\"><div class=\"sk-estimator sk-toggleable\"><input class=\"sk-toggleable__control sk-hidden--visually\" id=\"sk-estimator-id-24\" type=\"checkbox\" ><label for=\"sk-estimator-id-24\" class=\"sk-toggleable__label sk-toggleable__label-arrow\">Ridge</label><div class=\"sk-toggleable__content\"><pre>Ridge()</pre></div></div></div></div></div></div></div>"
      ],
      "text/plain": [
       "Pipeline(steps=[('columntransformer',\n",
       "                 ColumnTransformer(remainder='passthrough',\n",
       "                                   transformers=[('onehotencoder',\n",
       "                                                  OneHotEncoder(sparse=False),\n",
       "                                                  ['location'])])),\n",
       "                ('standardscaler', StandardScaler()), ('ridge', Ridge())])"
      ]
     },
     "execution_count": 85,
     "metadata": {},
     "output_type": "execute_result"
    }
   ],
   "source": [
    "pipe.fit(X_train,y_train)"
   ]
  },
  {
   "cell_type": "code",
   "execution_count": 86,
   "metadata": {},
   "outputs": [
    {
     "data": {
      "text/plain": [
       "0.7971713890436467"
      ]
     },
     "execution_count": 86,
     "metadata": {},
     "output_type": "execute_result"
    }
   ],
   "source": [
    "y_pred_ridge = pipe.predict(X_test)\n",
    "r2_score(y_test, y_pred_ridge)"
   ]
  },
  {
   "cell_type": "code",
   "execution_count": 88,
   "metadata": {},
   "outputs": [
    {
     "name": "stdout",
     "output_type": "stream",
     "text": [
      "No Regularization:  0.7971571080931397\n",
      "Lasso:  0.7851332530941815\n",
      "Ridge:  0.7971713890436467\n"
     ]
    }
   ],
   "source": [
    "print(\"No Regularization: \", r2_score(y_test, y_pred_lr))\n",
    "print(\"Lasso: \", r2_score(y_test, y_pred_lasso))\n",
    "print(\"Ridge: \", r2_score(y_test, y_pred_ridge))"
   ]
  }
 ],
 "metadata": {
  "colab": {
   "provenance": []
  },
  "kernelspec": {
   "display_name": "Python 3 (ipykernel)",
   "language": "python",
   "name": "python3"
  },
  "language_info": {
   "codemirror_mode": {
    "name": "ipython",
    "version": 3
   },
   "file_extension": ".py",
   "mimetype": "text/x-python",
   "name": "python",
   "nbconvert_exporter": "python",
   "pygments_lexer": "ipython3",
   "version": "3.11.4"
  }
 },
 "nbformat": 4,
 "nbformat_minor": 1
}
